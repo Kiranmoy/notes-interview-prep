{
 "cells": [
  {
   "cell_type": "markdown",
   "id": "89f315c0-6556-4b7f-ab85-867e3d1820d9",
   "metadata": {},
   "source": [
    "# Creational Design Patterns"
   ]
  },
  {
   "attachments": {
    "a978cf0d-1ca6-4885-b2aa-d34f2df9f66c.png": {
     "image/png": "[encoded data removed]"
    }
   },
   "cell_type": "markdown",
   "id": "8335e761-6569-461d-9dbc-50430a3f8fe2",
   "metadata": {},
   "source": [
    "In this lesson, we will discuss creational design patterns. \n",
    "\n",
    "**Creational design patterns** deal with object creation mechanisms. \n",
    "* As the name implies, these patterns provide optimized object creation techniques.\n",
    "* They help cater to the design and complexity problems that might occur when using the basic approach.\n",
    "* They also help control the creation of objects.\n",
    "\n",
    "The chart below shows the patterns that fall under this category:\n",
    "\n",
    "![image.png](attachment:a978cf0d-1ca6-4885-b2aa-d34f2df9f66c.png)\n"
   ]
  },
  {
   "cell_type": "markdown",
   "id": "1d718c16-559f-4917-a729-dea7f7a5299b",
   "metadata": {},
   "source": [
    "# Factory pattern"
   ]
  },
  {
   "cell_type": "markdown",
   "id": "79f2ccd8-d993-4a77-82f8-f4417b6d13b6",
   "metadata": {},
   "source": [
    "The **Factory pattern** is a creational pattern that provides a template that can be used to create objects. It is used in complex situations where the type of the object required varies and needs to be specified in each case.\n",
    "\n",
    "It does not use the `new` keyword directly to instantiate objects. This means that it does not explicitly require the use of a constructor to create objects. Instead, it provides a generic interface that delegates the object creation responsibility to the corresponding subclass."
   ]
  },
  {
   "cell_type": "markdown",
   "id": "3217a96a-9fb4-4f24-9055-051029882268",
   "metadata": {},
   "source": [
    "# Constructor pattern"
   ]
  },
  {
   "cell_type": "markdown",
   "id": "a2675776-a03e-47d5-b22a-34edfcf7f077",
   "metadata": {},
   "source": [
    "The **Constructor pattern**, as the name defines, is a class-based pattern that uses the constructors present in the class to create specific types of objects."
   ]
  },
  {
   "cell_type": "markdown",
   "id": "2248ec28-8e54-4c7f-aae6-74ca48168f82",
   "metadata": {},
   "source": [
    "# Singleton pattern"
   ]
  },
  {
   "cell_type": "markdown",
   "id": "0d42902a-9c6f-4998-941f-e03ab7b72ac8",
   "metadata": {},
   "source": [
    "The **Singleton pattern** is a type of design pattern that restricts the instantiation of a class to a single object. This allows the class to create its instance the first time it is instantiated. However, on the next try, the existing instance of the class is returned. No new instance is created."
   ]
  },
  {
   "cell_type": "markdown",
   "id": "dac2b17d-ebda-42a0-8462-e7dc98945f5f",
   "metadata": {},
   "source": [
    "# Builder pattern"
   ]
  },
  {
   "cell_type": "markdown",
   "id": "a3bbebf3-6bb7-47f5-b346-73ea4fe66ca6",
   "metadata": {},
   "source": [
    "The **Builder pattern** is a type of a creational design pattern that helps in building complex objects using simpler objects. It provides a flexible and step-by-step approach towards making these objects. It also shields the representation and process of creation."
   ]
  },
  {
   "cell_type": "markdown",
   "id": "41b6fca3-d1e3-4b0f-80e7-e25cb410ab1b",
   "metadata": {},
   "source": [
    "# Prototype pattern"
   ]
  },
  {
   "cell_type": "markdown",
   "id": "5fbfe859-a27c-462d-94e5-906f990f62a7",
   "metadata": {},
   "source": [
    "The **Prototype pattern** is used to instantiate objects with some default values using an existing object. It clones the object and provides the existing properties to the cloned object using prototypal inheritance.\n",
    "\n",
    "In **prototypal inheritance**, a prototype object acts as a blueprint from which other objects inherit when the constructor instantiates them. Hence, any properties defined on the prototype of a constructor function will also be present in the cloned object it creates."
   ]
  },
  {
   "cell_type": "markdown",
   "id": "2a3b6c3e-fe57-4762-90c7-af696dae79e8",
   "metadata": {},
   "source": [
    "# Abstract pattern"
   ]
  },
  {
   "cell_type": "markdown",
   "id": "556a75c5-63f7-468f-9253-1fcec57d18f4",
   "metadata": {},
   "source": [
    "We use the Factory pattern to create multiple objects from the same family without having to deal with the creation process. The **Abstract pattern** is similar. The difference is that it provides a constructor to create families of related objects. It is abstract, which means that it does not specify concrete classes or constructors."
   ]
  },
  {
   "cell_type": "markdown",
   "id": "43c308d2-387b-4e0e-938a-6f121a389ba3",
   "metadata": {},
   "source": [
    "# When to use creational design patterns?"
   ]
  },
  {
   "cell_type": "markdown",
   "id": "f64d54fb-3480-4aed-ab95-2edd2d9d4b83",
   "metadata": {},
   "source": [
    "**Factory pattern**:\n",
    "* When the type of objects required cannot be anticipated beforehand.\n",
    "* When multiple objects that share similar characteristics need to be created.\n",
    "* When you want to generalize the object instantiation process, since the object setup is complex in nature.\n",
    "\n",
    "**Constructor pattern**:\n",
    "* You can use it when you want to create multiple instances of the same template, since the instances can share methods but can still be different. \n",
    "* It can be useful in the Libraries and Plugins design.\n",
    "\n",
    "**Singleton pattern**:\n",
    "* The Singleton pattern is mostly used in cases where we want a single object to coordinate actions across a system.\n",
    "* **Services** can be singletons since they store the state, configuration, and provide access to resources. Therefore, it makes sense to have a single instance of a service in an application.\n",
    "* **Databases** such as MongoDB utilize the Singleton pattern when it comes to database connections.\n",
    "* **Configurations** are used if there is an object with a specific configuration, and we don’t need a new instance every time that configuration object is needed.\n",
    "\n",
    "**Builder pattern**:\n",
    "* You can use this design pattern when building apps that require you to create complex objects. It can help you hide the construction process of building these objects.\n",
    "* A good example would be a DOM, where we might need to create plenty of nodes and attributes. The construction process can get quite messy if we are building a complex DOM object. In cases like these, the Builder pattern can be used.\n",
    "\n",
    "**Prototype pattern**:\n",
    "* To eliminate the overhead of initializing an object.\n",
    "* When we want the system to be independent of how the products in it are created.\n",
    "* When creating objects from a database, the values are copied to the cloned object.\n",
    "\n",
    "**Abstract pattern**:\n",
    "* Applications requiring the reuse or sharing of objects.\n",
    "* Applications with complex logic because they have multiple families of related objects that need to be used together.\n",
    "* When we require object caching.\n",
    "* When the object creation process is to be shielded from the client."
   ]
  },
  {
   "cell_type": "code",
   "execution_count": null,
   "id": "959ce44f-2dc2-443a-a602-211ee8c70912",
   "metadata": {},
   "outputs": [],
   "source": []
  }
 ],
 "metadata": {
  "kernelspec": {
   "display_name": "Python 3 (ipykernel)",
   "language": "python",
   "name": "python3"
  },
  "language_info": {
   "codemirror_mode": {
    "name": "ipython",
    "version": 3
   },
   "file_extension": ".py",
   "mimetype": "text/x-python",
   "name": "python",
   "nbconvert_exporter": "python",
   "pygments_lexer": "ipython3",
   "version": "3.12.5"
  }
 },
 "nbformat": 4,
 "nbformat_minor": 5
}
