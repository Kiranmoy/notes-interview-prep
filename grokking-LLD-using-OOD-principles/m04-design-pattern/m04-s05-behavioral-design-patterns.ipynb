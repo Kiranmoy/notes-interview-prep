{
 "cells": [
  {
   "cell_type": "markdown",
   "id": "dd794b46-7903-4a88-a7f2-a23931c1d50e",
   "metadata": {},
   "source": [
    "# Behavioral Design Patterns"
   ]
  },
  {
   "attachments": {
    "5aaed6b0-a11f-45eb-a81d-c2bab6767afa.png": {
     "image/png": "[encoded data removed]"
    }
   },
   "cell_type": "markdown",
   "id": "1a2a37d0-d4b7-4333-a828-755a466c5473",
   "metadata": {},
   "source": [
    "**Behavioral design patterns** define how objects communicate and collaborate to accomplish tasks within a system. These patterns focus on effective interaction and responsibility-sharing among objects, without requiring significant changes to their internal code. This approach makes software systems more flexible, easier to maintain, and adaptable to future requirements.\n",
    "\n",
    "For example, while designing a notification system, we might want to send an email, a push notification, or a text message whenever a new blog post is published. Instead of writing separate code for each type, we can use the observer pattern, which automatically updates all notification services when something new happens. If we decide to add a Slack message later, we simply introduce a new observer—no changes are needed in the main publishing code.\n",
    "\n",
    "Several well-known behavioral design patterns exist. The most common patterns include Chain of Responsibility, Command, Iterator, Mediator, Observer, Visitor, Interpreter, Memento, State, Strategy, and Template Method. This lesson will explain the most important and commonly used patterns to help build a strong understanding of practical design and interview preparation.\n",
    "\n",
    "The illustration below shows all the patterns that fall under this category:\n",
    "\n",
    "![image.png](attachment:5aaed6b0-a11f-45eb-a81d-c2bab6767afa.png)"
   ]
  },
  {
   "cell_type": "markdown",
   "id": "d80a0b98-3cea-4b76-8a43-b0b7a006d987",
   "metadata": {},
   "source": [
    "# Chain of Responsibility pattern"
   ]
  },
  {
   "cell_type": "markdown",
   "id": "1becda78-3d1e-4158-98df-e34a75b3a6b7",
   "metadata": {},
   "source": [
    "The **Chain of Responsibility pattern** allows a request sent by a client to be received by more than one object. It creates a chain of loosely-coupled objects that, upon receiving the request, either handle it or pass it to the next handler object.\n",
    "\n",
    "A common example of this pattern is event bubbling in the DOM. An event propagates through different nested elements of the DOM until one of them handles it."
   ]
  },
  {
   "cell_type": "markdown",
   "id": "140a9514-82db-4881-be66-3f2dd99479eb",
   "metadata": {},
   "source": [
    "# Command pattern"
   ]
  },
  {
   "cell_type": "markdown",
   "id": "e16b5f80-07ea-4b45-b85a-b70c62b9421c",
   "metadata": {},
   "source": [
    "The **Command pattern** allows encapsulation of the requests or operations into separate objects. It decouples the objects that send requests from those responsible for executing them.\n",
    "\n",
    "Consider an example where the client is accessing the methods of an API directly throughout the application. What will happen if the implementation of that API changes? The change will have to be made everywhere the API is being used. To avoid this, we could use abstraction and separate the objects requesting from those implementing the request. Therefore, only the object making the call will need to change if a change occurs."
   ]
  },
  {
   "cell_type": "markdown",
   "id": "31e2bce3-b3f6-4922-a5a2-159b5f00e62d",
   "metadata": {},
   "source": [
    "# Iterator pattern"
   ]
  },
  {
   "cell_type": "markdown",
   "id": "00a3fd97-feb0-440a-ab9c-f291eb63d5ed",
   "metadata": {},
   "source": [
    "The **Iterator pattern** allows the definition of various types of iterators that can sequentially iterate a collection of objects without exposing the underlying form.\n",
    "\n",
    "Iterators encapsulate how the traversal occurs in an iteration. Most languages have built-in iterators such as IEnumerable and IEnumerator. Iterators follow the behavior where they call a `next` function and step through a set of values until they reach the end. To do this, they need to maintain a reference to the current position and the collection they are traversing. Hence, an iterator has functions such as `next`, `hasNext`, `currentItem`, and `each`."
   ]
  },
  {
   "cell_type": "markdown",
   "id": "2a584824-1b3c-4185-abe6-44663f6b9810",
   "metadata": {},
   "source": [
    "# Mediator pattern"
   ]
  },
  {
   "cell_type": "markdown",
   "id": "b6d45ef6-90a4-4108-9054-c402782c94c3",
   "metadata": {},
   "source": [
    "It is a behavioral pattern that allows a **mediator** (a central authority) to act as the coordinator between different objects instead of the objects referring to each other directly. As the name implies, a mediator is a central authority through which various components can communicate. It allows the loose coupling of objects.\n",
    "\n",
    "A real-life example is a chat application. Here, the chat box acts as the mediator through which various users interact with one another."
   ]
  },
  {
   "cell_type": "markdown",
   "id": "a233e525-c73a-4590-b226-a9d859639aa7",
   "metadata": {},
   "source": [
    "# Observer pattern"
   ]
  },
  {
   "cell_type": "markdown",
   "id": "f6800b5d-384b-4103-8d2c-cb339a7d6eaa",
   "metadata": {},
   "source": [
    "The **Observer pattern** is an important behavioral design pattern. It allows objects (observers) who have subscribed to an event to wait for input and react when notified. Therefore, they don’t have to continuously check whether the input has been provided. The main subject maintains a list of all the observers, and whenever the event occurs, it notifies the observers so they can update their states accordingly.\n",
    "\n",
    "Let’s look at a real-life example to map to this pattern. Consider a website that posts interesting articles. Every day, you visit the site to check for new articles; if there are none, you revisit after some time. What if you get a subscription to the website instead? Once you have the subscription, you’ll be notified whenever a new article is posted. So now, instead of checking the site every few hours, you just wait for the notification about a new article."
   ]
  },
  {
   "cell_type": "markdown",
   "id": "2e24e332-1d15-4516-b47b-bfa9930e8304",
   "metadata": {},
   "source": [
    "# Visitor pattern"
   ]
  },
  {
   "cell_type": "markdown",
   "id": "70da2982-2328-4f8d-b143-ea2d702af7eb",
   "metadata": {},
   "source": [
    "The **Visitor pattern** allows the definition of new operations on the collection of objects without changing the objects’ structure. This allows us to separate the class from the logic it implements.\n",
    "\n",
    "The extra operations can be encapsulated in a visitor object. The objects can have a visit method that accepts the visitor object. The visitor can then make the required changes and perform the operations on the received object. This allows the developers to make future extensions, extend the libraries/frameworks, etc."
   ]
  },
  {
   "cell_type": "markdown",
   "id": "5fa9abdc-1562-42e8-919f-f054a3dbc31e",
   "metadata": {},
   "source": [
    "# Interpreter pattern"
   ]
  },
  {
   "cell_type": "markdown",
   "id": "3755e7cb-913b-47a8-8fd8-80abaeb60098",
   "metadata": {},
   "source": [
    "The **Interpreter pattern** provides a way to interpret or translate sentences in a simple language using a set of interpreter objects. Each interpreter object represents a rule or part of the language grammar. Together, these objects can read, understand, and process statements. This pattern is helpful when defining and processing simple languages or expressions.\n",
    "\n",
    "A real-life example is a simple calculator. Here, we can create different `Expression` objects like `NumberExpression` for numbers and `AddExpression` or `SubtractExpression` for operations. Each expression object knows how to interpret itself and returns a result."
   ]
  },
  {
   "cell_type": "markdown",
   "id": "957a0f43-cc29-42bb-a175-96305ba6fa6f",
   "metadata": {},
   "source": [
    "# Memento pattern"
   ]
  },
  {
   "cell_type": "markdown",
   "id": "38835056-b0df-438d-9fd5-81517a824ef7",
   "metadata": {},
   "source": [
    "The **Memento pattern** captures and externalizes an object’s internal state so that it can be restored to this state later without violating encapsulation. This pattern is commonly used to implement undo/redo functionality.\n",
    "\n",
    "This pattern uses three types of objects: \n",
    "1. **Originator**: The object whose state needs saving/restoring\n",
    "2. **Memento**: The object that stores the state\n",
    "3. **Caretaker**: The object that requests and holds mementos, but does not modify them\n",
    "\n",
    "For example, in a text editor, the `TextEditor` object is the `Originator`. When we want to save our work, the `TextEditor` creates a Memento object that stores the current text. The `History` object is the `Caretaker`. It keeps a list of Memento objects so we can undo changes. If we want to undo, the `TextEditor` asks for the last Memento and restores its state."
   ]
  },
  {
   "cell_type": "markdown",
   "id": "1fe4e0c7-e5f3-4701-b016-65da37cff736",
   "metadata": {},
   "source": [
    "# State pattern"
   ]
  },
  {
   "cell_type": "markdown",
   "id": "f8802a25-eb86-42c3-8ea5-8f84d71a5dad",
   "metadata": {},
   "source": [
    "The **State pattern** lets an object change its behavior when its internal state changes. We create different state objects instead of using many `if` or `switch` statements. The main object keeps a reference to its current state object and passes work to it. Each state object defines how to handle actions for that state.\n",
    "\n",
    "For example, in a music player, the `MusicPlayer` object can be in a `PlayingState` or a `PausedState`. When we press the play/pause button, the `MusicPlayer` asks its current state object what to do. If it is in `PlayingState`, the state object will pause the music and change the state to `PausedState`. If it is in `PausedState`, the state object will play the music and switch back to `PlayingState`."
   ]
  },
  {
   "cell_type": "markdown",
   "id": "b887f924-030a-4451-b1ba-d7ddd520cbc7",
   "metadata": {},
   "source": [
    "# Strategy pattern"
   ]
  },
  {
   "cell_type": "markdown",
   "id": "a08d0446-cdfb-4d2b-b96a-cd485b83daf1",
   "metadata": {},
   "source": [
    "The **Strategy pattern** allows us to define a family of related algorithms and put each in its own strategy object. A context object holds a reference to a strategy object and delegates the work to it instead of handling the logic directly. This pattern makes changing an algorithm at runtime easy without changing the main object’s code.\n",
    "\n",
    "A real-life example is a navigation application. Here, the `NavigationApp` object acts as the context and selects a `RouteStrategy` object, such as `FastestRoute`, `ShortestRoute`, or `ScenicRoute`, to calculate the route. The navigation app can switch to a different strategy at any time to find a route in another way."
   ]
  },
  {
   "cell_type": "markdown",
   "id": "7eb45ccf-5d5e-4c68-8dc1-d3e89518d42a",
   "metadata": {},
   "source": [
    "# Template Method pattern"
   ]
  },
  {
   "cell_type": "markdown",
   "id": "d5ee8d92-c175-4ce7-a311-7ff314186223",
   "metadata": {},
   "source": [
    "The **Template Method pattern** defines the basic steps of an algorithm in a base class, with some steps fixed and others left for subclasses to fill in. This lets us keep the process’s common structure in one place while allowing parts to vary when needed. It helps enforce consistency and reuse across related tasks.\n",
    "\n",
    "A real-life example is a system for making beverages. The `BeverageMaker` base class defines how to make a drink: boil water, brew, pour into a cup, and add extras. Subclasses like `TeaMaker` and `CoffeeMaker` provide their own way to brew and add extras, while the main steps stay the same."
   ]
  },
  {
   "cell_type": "markdown",
   "id": "c26765b0-5fea-4edb-aed1-211fcd8588dc",
   "metadata": {},
   "source": [
    "# When to use behavioral design patterns"
   ]
  },
  {
   "cell_type": "markdown",
   "id": "e087868d-d142-4745-a5b0-4a3cf351a694",
   "metadata": {},
   "source": [
    "Behavioral design patterns are useful in different situations. Here are some examples of when we should use each pattern.\n",
    "\n",
    "**Chain of Responsibility**:\n",
    "* It can be used where a program is written to handle various requests differently without knowing the sequence and type of requests beforehand.\n",
    "* It can be used in event bubbling in the DOM, where the event propagates through nested elements, one of which may choose to handle the event.\n",
    "\n",
    "**Command**:\n",
    "* It can be used to queue and execute requests at different times.\n",
    "* It can perform “reset” or “undo” operations.\n",
    "* It can be used to keep a history of requests made.\n",
    "\n",
    "**Iterator**:\n",
    "* It can be used when dealing with problems explicitly related to iteration, for designing flexible looping constructs and accessing elements from a complex collection without knowing the underlying representation.\n",
    "* It can be used to implement a generic iterator that traverses any collection, independent of its type, efficiently.\n",
    "\n",
    "**Mediator**:\n",
    "* It can be used to avoid the tight coupling of objects in a system with many objects.\n",
    "* It can be used to improve code readability.\n",
    "* It can be used to make code easier to maintain.\n",
    "\n",
    "**Observer**:\n",
    "* It can improve code management by breaking down large applications into a system of loosely-coupled objects.\n",
    "* It can improve communication between different parts of the application.\n",
    "* It can be used to create a one-to-many dependency between objects that are loosely coupled.\n",
    "\n",
    "**Visitor**:\n",
    "* It can perform operations across a group of related but different objects without changing their classes.\n",
    "* It can add new operations to complex object structures without modifying the objects themselves.\n",
    "* It can add extensibility to libraries or frameworks by allowing users to plug in new behaviors easily.\n",
    "\n",
    "**Interpreter**:\n",
    "* It can be used to build simple scripting languages or small domain-specific languages.\n",
    "* It can be used to define rules or grammar for processing expressions.\n",
    "* It can interpret math expressions, search filters, or configuration scripts.\n",
    "\n",
    "**Memento**:\n",
    "* It can implement undo and redo features in editors or applications.\n",
    "* It can save snapshots of an object’s state without exposing its internal details.\n",
    "* It can restore a system to a previous state when needed.\n",
    "\n",
    "**State**:\n",
    "* It can be used when an object’s behavior needs to change based on its internal state.\n",
    "* It can be used in scenarios like media players, game characters, or workflow steps.\n",
    "* It can remove large if-else or switch statements related to state transitions.\n",
    "\n",
    "**Strategy**:\n",
    "* It can select an algorithm at runtime based on the situation.\n",
    "* It can swap out business rules or operations without changing the main logic.\n",
    "* It can be used for payment, sorting, or route finding strategies.\n",
    "\n",
    "**Template Method**:\n",
    "* It can be used when multiple classes follow the same steps but need to change some of those steps.\n",
    "* It can be used to enforce a common structure for related processes.\n",
    "* It can be used in frameworks to let subclasses override parts of an algorithm.\n",
    "    "
   ]
  },
  {
   "cell_type": "code",
   "execution_count": null,
   "id": "9ce14817-f44e-4a7e-b199-0168459ad5a5",
   "metadata": {},
   "outputs": [],
   "source": []
  }
 ],
 "metadata": {
  "kernelspec": {
   "display_name": "Python 3 (ipykernel)",
   "language": "python",
   "name": "python3"
  },
  "language_info": {
   "codemirror_mode": {
    "name": "ipython",
    "version": 3
   },
   "file_extension": ".py",
   "mimetype": "text/x-python",
   "name": "python",
   "nbconvert_exporter": "python",
   "pygments_lexer": "ipython3",
   "version": "3.12.5"
  }
 },
 "nbformat": 4,
 "nbformat_minor": 5
}
