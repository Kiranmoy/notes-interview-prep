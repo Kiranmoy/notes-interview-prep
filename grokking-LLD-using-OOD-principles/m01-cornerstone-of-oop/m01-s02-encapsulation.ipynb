{
 "cells": [
  {
   "cell_type": "markdown",
   "id": "baa8a155-99b5-4baf-a70d-e40f103df029",
   "metadata": {},
   "source": [
    "# Data hiding"
   ]
  },
  {
   "cell_type": "markdown",
   "id": "abf6b02b-65e5-4325-985b-3967c115f1e3",
   "metadata": {},
   "source": [
    "**Data hiding** is an essential concept in object-oriented programming. In simple terms, it can be defined as masking a class's internal operations and only providing an interface through which other entities can interact with the class without being aware of what is happening within.\n",
    "\n",
    "The goal is to implement classes in a way that prevents unauthorized access to or modification of the original contents of a class by its instances (or objects). \n",
    "* The underlying algorithms of one class need not be known to another class.\n",
    "* The two classes can still communicate, though."
   ]
  },
  {
   "cell_type": "markdown",
   "id": "53300a89-bb49-4517-a0f9-49cb5546604a",
   "metadata": {},
   "source": [
    "# Components of data hiding"
   ]
  },
  {
   "cell_type": "markdown",
   "id": "49d4d5ad-ff86-490c-9de7-7d0dcec9ab52",
   "metadata": {},
   "source": [
    "Data hiding can be divided into two primary components:\n",
    "* Encapsulation\n",
    "* Abstraction\n",
    "\n",
    "When used together, they allow us to make efficient classes for further use in our application."
   ]
  },
  {
   "cell_type": "markdown",
   "id": "05f9111a-fe0a-49ac-a09c-adb73f29dab0",
   "metadata": {},
   "source": [
    "# What is Encapsulation?"
   ]
  },
  {
   "cell_type": "markdown",
   "id": "e019fb3f-88ea-4f90-af1c-3a29687ac2ec",
   "metadata": {},
   "source": [
    "Encapsulation is a fundamental programming technique used to achieve data hiding in OOP.\n",
    "* Encapsulation in OOP refers to binding data and the methods to manipulate that data together in a single unit called a **class**.\n",
    "* Encapsulation is usually done to hide the state and representation of an object from the outside.\n",
    "* A **class** can be thought of as a capsule with methods and attributes inside it.\n",
    "* When encapsulating classes, a good convention is to declare all variables of a class private. This will restrict direct access by the code outside that class.\n",
    "\n",
    "At this point, a question can be raised.\n",
    "* If the methods and variables are encapsulated in a class, **how can they be used outside that class?**\n",
    "* The answer to this is simple.\n",
    "* One has to implement public methods to let the outside world communicate with this class.\n",
    "* These methods are called **getters** and **setters**.\n",
    "* We can also implement other custom methods."
   ]
  },
  {
   "cell_type": "markdown",
   "id": "e1f4feb2-da63-49b6-be1e-6d53fc25a573",
   "metadata": {},
   "source": [
    "# Implementing encapsulation"
   ]
  },
  {
   "cell_type": "markdown",
   "id": "7e0b1ee9-a6d7-4dca-a25f-6b16a847680b",
   "metadata": {},
   "source": [
    "For the sake of explanation, we’ll start off by creating a simple **Movie** class, which contains the following three data members (attributes):\n",
    "* `title`\n",
    "* `year`\n",
    "* `genre`\n",
    "\n",
    "Below is the implementation of the **Movie** class in different OOP languages.\n",
    "\n",
    "```python\n",
    "class Movie:\n",
    "    def __init__(self, t=\"\", y=-1, g=\"\"):\n",
    "        self.__title = t\n",
    "        self.__year = y\n",
    "        self.__genre = g\n",
    "\n",
    "    def get_title(self):\n",
    "        return self.__title\n",
    "\n",
    "    def set_title(self, value):\n",
    "        self.__title = value\n",
    "\n",
    "    def get_year(self):\n",
    "        return self.__year\n",
    "\n",
    "    def set_year(self, value):\n",
    "        self.__year = value\n",
    "\n",
    "    def get_genre(self):\n",
    "        return self.__genre\n",
    "\n",
    "    def set_genre(self, value):\n",
    "        self.__genre = value\n",
    "\n",
    "    def print_details(self):\n",
    "        print(\"Title:\", self.get_title())\n",
    "        print(\"Year:\", self.get_year())\n",
    "        print(\"Genre:\", self.get_genre())\n",
    "\n",
    "def main():\n",
    "    movie = Movie(\"The Lion King\", 1994, \"Adventure\")\n",
    "    movie.print_details()\n",
    "\n",
    "    print(\"---\")\n",
    "    movie.set_title(\"Forrest Gump\")\n",
    "    print(\"New title:\", movie.get_title())\n",
    "\n",
    "if __name__ == \"__main__\":\n",
    "    main()\n",
    "```\n",
    "\n",
    "\n",
    "* The **Movie** class has an interface with public methods for communication.\n",
    "* The private members (variables or functions) cannot be accessed directly from the outside, but public read and write functions allow access to them. \n",
    "* This, in essence, is **data encapsulation**."
   ]
  },
  {
   "cell_type": "markdown",
   "id": "dd82eab4-ca5f-4496-a537-d3f9dd9a4210",
   "metadata": {},
   "source": [
    "# Advantages of encapsulation"
   ]
  },
  {
   "cell_type": "markdown",
   "id": "9b81f6dc-35e4-4a1a-acbd-8ed5810e5606",
   "metadata": {},
   "source": [
    "* Classes are simpler to modify and maintain.\n",
    "* Which data member we wish to keep hidden or accessible can be specified.\n",
    "* We choose which variables are read-only and write-only (increases flexibility)."
   ]
  }
 ],
 "metadata": {
  "kernelspec": {
   "display_name": "Python 3 (ipykernel)",
   "language": "python",
   "name": "python3"
  },
  "language_info": {
   "codemirror_mode": {
    "name": "ipython",
    "version": 3
   },
   "file_extension": ".py",
   "mimetype": "text/x-python",
   "name": "python",
   "nbconvert_exporter": "python",
   "pygments_lexer": "ipython3",
   "version": "3.12.5"
  }
 },
 "nbformat": 4,
 "nbformat_minor": 5
}
