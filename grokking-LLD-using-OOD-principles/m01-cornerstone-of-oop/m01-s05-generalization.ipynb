{
 "cells": [
  {
   "cell_type": "markdown",
   "id": "dd3f2ffe-15c1-42f4-9ef9-01f9d01110d0",
   "metadata": {},
   "source": [
    "Learn about generalization and how it enhances **reusability**, **extensibility**, and **maintainability** through inheritance and abstraction.\n",
    "\n",
    "**Generalization** is a fundamental concept in object-oriented design (OOD) that involves extracting common properties and behaviors from multiple classes and consolidating them into a single parent class. \n",
    "* This allows subclasses to inherit shared attributes and methods while having the flexibility to specialize further.\n",
    "* Abstracting common behaviors into a parent class simplifies code maintenance, enhances reusability, and supports easier code extension."
   ]
  },
  {
   "cell_type": "markdown",
   "id": "2d021a59-0c27-4a9c-a454-37c20c2b206c",
   "metadata": {},
   "source": [
    "# Importance of generalization"
   ]
  },
  {
   "cell_type": "markdown",
   "id": "7ce4d0ad-ea5a-4941-848e-bc6e14fba478",
   "metadata": {},
   "source": [
    "* **Code reusability**: Reduces duplication by allowing subclasses to reuse code from the parent class.\n",
    "* **Extensibility**: New classes can easily be added by extending the parent class, without altering existing code.\n",
    "* **Polymorphism**: Parent class references can point to child class objects, promoting more general and adaptable code that can easily work with new subclasses in the future.\n",
    "* **Maintainability**: Changes to shared behavior must only be made in one place, making the system easier to manage and less error-prone."
   ]
  },
  {
   "cell_type": "markdown",
   "id": "eb0f9adc-5ead-46e9-80e4-005a8b985ab2",
   "metadata": {},
   "source": [
    "# Generalization vs. Specialization"
   ]
  },
  {
   "attachments": {
    "932b4fa4-9f22-4d4b-a5aa-8ca49054a281.png": {
     "image/png": "[encoded data removed]"
    }
   },
   "cell_type": "markdown",
   "id": "1e2a6fcf-d44a-4293-8fa6-41a5c7c6fe34",
   "metadata": {},
   "source": [
    "Understanding the distinction between generalization and specialization is key to effective object-oriented design:\n",
    "\n",
    "* **Generalization**: Finding common characteristics in different classes and abstracting them into a parent class.\n",
    "* **Specialization**: Creating subclasses that define more specific behaviors or attributes.\n",
    "\n",
    "For example, `Bird` could be a generalized class with common behavior for all birds. We could then specialize this further into `Sparrow` and `Eagle` classes, each with additional behaviors unique to those birds.\n",
    "\n",
    "![image.png](attachment:932b4fa4-9f22-4d4b-a5aa-8ca49054a281.png)"
   ]
  },
  {
   "cell_type": "markdown",
   "id": "6f3c7a2c-8722-4ad8-ab1f-d95a0ce3f678",
   "metadata": {},
   "source": [
    "# Generalization and inheritance"
   ]
  },
  {
   "cell_type": "markdown",
   "id": "c8460e8a-5ee6-4634-baa9-ad72c2c36faf",
   "metadata": {},
   "source": [
    "**Generalization is implemented through inheritance**, where a child class inherits common properties from the parent class.\n",
    "\n",
    "In the code below, `Dog` and `Cat` inherit `Animal`’s common behavior and also add their specific features.\n",
    "\n",
    "```python\n",
    "// Parent Class: Animal\n",
    "class Animal {\n",
    "    public void sleep() {\n",
    "        System.out.println(\"Animal is sleeping\");\n",
    "    }\n",
    "\n",
    "    public void eat() {\n",
    "        System.out.println(\"Animal is eating\");\n",
    "    }\n",
    "}\n",
    "\n",
    "// Specialized Classes: Dog and Cat\n",
    "class Dog extends Animal {\n",
    "    public void bark() {\n",
    "        System.out.println(\"The dog barks\");\n",
    "    }\n",
    "}\n",
    "\n",
    "class Cat extends Animal {\n",
    "    public void meow() {\n",
    "        System.out.println(\"The cat meows\");\n",
    "    }\n",
    "}\n",
    "\n",
    "// Driver code\n",
    "public class Main {\n",
    "    public static void main(String[] args) {\n",
    "        Dog dog = new Dog();\n",
    "        dog.sleep();  // Inherited method\n",
    "        dog.bark();   // Dog-specific method\n",
    "        dog.eat();    // Inherited method\n",
    "\n",
    "        Cat cat = new Cat();\n",
    "        cat.sleep();  // Inherited method\n",
    "        cat.meow();   // Cat-specific method\n",
    "        cat.eat();    // Inherited method\n",
    "    }\n",
    "}\n",
    "\n",
    "```\n",
    "\n",
    "In the example above:\n",
    "* The `Animal` class is generalized with common methods `sleep()` and `eat()`.\n",
    "* `Dog` and `Cat` are specialized classes that inherit the `sleep()` and `eat()` methods and add their own unique behavior (`bark()` and `meow()`).\n",
    "\n",
    "Instead of repeating `sleep()` and `eat()` methods in both `Dog` and `Cat`, we’ve moved them to the `Animal` class. \n",
    "\n",
    "This allows both the `Dog` and `Cat` to automatically inherit these behaviors."
   ]
  },
  {
   "cell_type": "markdown",
   "id": "30a25669-ebcb-4906-bcb2-d7f7a9b643e1",
   "metadata": {},
   "source": [
    "# Generalization and polymorphism"
   ]
  },
  {
   "cell_type": "markdown",
   "id": "76332675-6795-43cf-966b-40ee5a158007",
   "metadata": {},
   "source": [
    "Polymorphism is one of the key benefits of generalization. It allows objects of different subclasses to be treated as objects of the parent class, promoting flexibility and reducing the need for type checking.\n",
    "\n",
    "We can use polymorphism to refer to an object of type `Circle` or `Rectangle` as a `Shape`. This is achieved because both `Circle` and `Rectangle` inherit from `Shape`.\n",
    "\n",
    "```python\n",
    "// Abstract Parent Class: Shape\n",
    "abstract class Shape {\n",
    "    String color;\n",
    "\n",
    "    Shape(String color) {\n",
    "        this.color = color;\n",
    "    }\n",
    "\n",
    "    // Abstract method (no body)\n",
    "    abstract double area();\n",
    "}\n",
    "\n",
    "// Specialized Class: Circle\n",
    "class Circle extends Shape {\n",
    "    double radius;\n",
    "\n",
    "    Circle(String color, double radius) {\n",
    "        super(color);\n",
    "        this.radius = radius;\n",
    "    }\n",
    "\n",
    "    @Override\n",
    "    double area() {\n",
    "        return Math.PI * radius * radius;\n",
    "    }\n",
    "}\n",
    "\n",
    "// Specialized Class: Rectangle\n",
    "class Rectangle extends Shape {\n",
    "    double length, width;\n",
    "\n",
    "    Rectangle(String color, double length, double width) {\n",
    "        super(color);\n",
    "        this.length = length;\n",
    "        this.width = width;\n",
    "    }\n",
    "\n",
    "    @Override\n",
    "    double area() {\n",
    "        return length * width;\n",
    "    }\n",
    "}\n",
    "\n",
    "// Driver code\n",
    "class TestPolymorphism {\n",
    "    public static void main(String[] args) {\n",
    "        Shape myShape = new Circle(\"Red\", 5.0); // Circle is treated as Shape\n",
    "        System.out.println(\"Circle color: \" + myShape.color);\n",
    "        System.out.println(\"Circle area: \" + myShape.area());\n",
    "\n",
    "        myShape = new Rectangle(\"Blue\", 4.0, 6.0); // Rectangle is treated as Shape\n",
    "        System.out.println(\"Rectangle color: \" + myShape.color);\n",
    "        System.out.println(\"Rectangle area: \" + myShape.area());\n",
    "    }\n",
    "}\n",
    "```\n",
    "\n",
    "In this case, the same `myShape` reference is used to refer to both `Circle` and `Rectangle` objects, demonstrating polymorphism."
   ]
  },
  {
   "cell_type": "markdown",
   "id": "be8657ae-d002-441a-8e56-a16f5793dca6",
   "metadata": {},
   "source": [
    "# Generalization in real-world example"
   ]
  },
  {
   "attachments": {
    "8294f2f0-396c-4077-9ee0-1ff276d8d4e8.png": {
     "image/png": "[encoded data removed]"
    }
   },
   "cell_type": "markdown",
   "id": "cd1c2d82-5e05-47de-9085-cc3591d6dbaf",
   "metadata": {},
   "source": [
    "Imagine you are developing a vehicle management system for a logistics company. Many types of vehicles share common features, but there are also subcategories within them.\n",
    "\n",
    "![image.png](attachment:8294f2f0-396c-4077-9ee0-1ff276d8d4e8.png)\n",
    "\n",
    "At the top level, `Vehicle` is the parent class, containing shared properties such as `registrationNumber`, `capacity`, and a method like `move()`. \n",
    "\n",
    "This generalizes into two subclasses: `LandVehicle` and `AirVehicle`, each inheriting the core features from `Vehicle` while adding more specific properties relevant to their type.\n",
    "\n",
    "* `LandVehicle` is further specialized into `Truck` and `Car`:\n",
    "* `Truck` might introduce attributes like `loadType`.\n",
    "* `Car` could have properties such as `passengerCount`.\n",
    "\n",
    "`AirVehicle` is further specialized into `Helicopter` and `CargoPlane`:\n",
    "* `Helicopter` might have features like `rotorCount`.\n",
    "* `CargoPlane` could include attributes such as `maxAltitude` and `cargoVolume`.\n"
   ]
  },
  {
   "cell_type": "markdown",
   "id": "acae613c-72a3-449c-866d-ac191e0409c1",
   "metadata": {},
   "source": [
    "# Generalization and the open/closed principle (OCP)"
   ]
  },
  {
   "attachments": {
    "ffab1e5b-af22-4514-9429-fe8493f2947e.png": {
     "image/png": "[encoded data removed]"
    }
   },
   "cell_type": "markdown",
   "id": "73f17b60-c897-4c0e-891d-90723effc733",
   "metadata": {},
   "source": [
    "The open/closed principle (part of SOLID principles) states that classes should be **open for extension but closed for modification**.\n",
    "\n",
    "Generalization helps achieve this by allowing new subclasses to be added without altering the existing code.\n",
    "\n",
    "Let’s say we want to add a new land vehicle type, `Bike`. We create a `Bike` class that extends `LandVehicle`.\n",
    "\n",
    "![image.png](attachment:ffab1e5b-af22-4514-9429-fe8493f2947e.png)\n",
    "\n",
    "We do not need to modify `Vehicle`, `LandVehicle`, or any of the existing vehicle classes to add this new type."
   ]
  },
  {
   "cell_type": "code",
   "execution_count": null,
   "id": "5de0ab92-cb53-449c-910c-4544e806e0c2",
   "metadata": {},
   "outputs": [],
   "source": []
  }
 ],
 "metadata": {
  "kernelspec": {
   "display_name": "Python 3 (ipykernel)",
   "language": "python",
   "name": "python3"
  },
  "language_info": {
   "codemirror_mode": {
    "name": "ipython",
    "version": 3
   },
   "file_extension": ".py",
   "mimetype": "text/x-python",
   "name": "python",
   "nbconvert_exporter": "python",
   "pygments_lexer": "ipython3",
   "version": "3.12.5"
  }
 },
 "nbformat": 4,
 "nbformat_minor": 5
}
