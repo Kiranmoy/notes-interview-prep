{
 "cells": [
  {
   "cell_type": "markdown",
   "id": "9b2657f0-905d-4dd7-9df3-7a91e3699cd6",
   "metadata": {},
   "source": [
    "# Job Description"
   ]
  },
  {
   "cell_type": "markdown",
   "id": "bd87532c-350a-430a-b031-4c2ed40853a9",
   "metadata": {},
   "source": [
    "**Responsibilities**\n",
    "* Lead and manage the Python automation testing efforts within the team\n",
    "* Develop and execute test cases and scripts to ensure the quality and reliability of our software products\n",
    "* Collaborate with cross-functional teams to understand testing requirements and provide testing support\n",
    "* Conduct thorough testing of SOAP and REST services to validate system functionality\n",
    "* Create and maintain comprehensive test documentation, including checklists and test cases\n",
    "* Utilize strong analytical skills to troubleshoot and resolve testing issues\n",
    "* Design and implement formal test cases based on software requirements\n",
    "* Contribute to the continuous improvement of testing processes and methodologies\n",
    "* Participate in Scrum ceremonies and adhere to Agile principles in testing activities\n",
    "* Provide mentorship and guidance to junior team members in testing best practices\n",
    "\n",
    "**Requirements**\n",
    "* 8-12 years of solid experience in Selenium automation using Python\n",
    "* Experience in software testing or development with a strong understanding of testing, coding, and debugging procedures\n",
    "* Strong expertise in BDD framework like Pytest\n",
    "* Experience working with SOAP and REST services and understanding of SOA architecture\n",
    "* Knowledge of various software testing techniques and methods, with practical experience applying them\n",
    "* Proficiency in maintaining test documentation such as checklists and test cases\n",
    "* Experience with SFTP and shell scripts\n",
    "* Familiarity with Oracle database and strong SQL knowledge\n",
    "* Strong analytical skills and attention to detail\n",
    "* Excellent troubleshooting skills\n",
    "* Ability to design formal test cases based on requirements\n",
    "* Understanding of Scrum terminology and principles\n",
    "* B2+ English level proficiency"
   ]
  },
  {
   "cell_type": "markdown",
   "id": "19ee129a-cbbb-43d4-a3b0-299a7f27b28f",
   "metadata": {},
   "source": [
    "# Interview preparation"
   ]
  },
  {
   "cell_type": "markdown",
   "id": "d11774fe-944e-464a-a712-aff2e237215d",
   "metadata": {},
   "source": [
    "**🧠 Core Python & Automation Expertise**\n",
    "* How do you structure a scalable Selenium automation framework using Python?\n",
    "* What are the advantages of using Pytest for BDD-style testing?\n",
    "* Can you explain how fixtures work in Pytest and how you’ve used them in your test suites?\n",
    "* Describe how you handle dynamic elements and synchronization issues in Selenium.\n",
    "* How do you manage test data and configuration across multiple environments in Python?\n",
    "\n",
    "---\n",
    "\n",
    "**🌐 API Testing (SOAP & REST)**\n",
    "* How do you test RESTful services using Python? Which libraries do you prefer and why?\n",
    "* What challenges have you faced when testing SOAP services and how did you overcome them?\n",
    "* Can you explain the role of WSDL in SOAP testing and how you validate responses?\n",
    "* How do you handle authentication (OAuth, Basic Auth, JWT) in API tests?\n",
    "* Describe a scenario where API testing revealed a critical issue in production.\n",
    "\n",
    "---\n",
    "\n",
    "**🧪 Test Design & Strategy**\n",
    "* How do you design formal test cases from software requirements?\n",
    "* What’s your approach to maintaining test documentation such as checklists and test cases?\n",
    "* How do you ensure traceability between requirements and test cases?\n",
    "* Describe your process for reviewing and improving existing test cases.\n",
    "* How do you prioritize test cases for automation?\n",
    "\n",
    "---\n",
    "\n",
    "**🧰 Tools & Technologies**\n",
    "* How have you used shell scripting in your test automation workflows?\n",
    "* Describe your experience with SFTP in test automation.\n",
    "* How do you validate data in Oracle databases using SQL during testing?\n",
    "* What strategies do you use for database test automation and data integrity checks?\n",
    "* How do you integrate test automation with CI/CD pipelines?\n",
    "\n",
    "---\n",
    "\n",
    "**🔄 Agile & Leadership**\n",
    "* How do you contribute to Scrum ceremonies as a test lead?\n",
    "* What Agile principles do you apply in your testing activities?\n",
    "* How do you mentor junior testers and ensure quality across the team?\n",
    "* Describe a time when you had to lead a testing effort under tight deadlines.\n",
    "* How do you handle conflicts or disagreements in cross-functional teams?"
   ]
  },
  {
   "cell_type": "code",
   "execution_count": null,
   "id": "7d95b1a4-8f78-462d-8cfb-fee4801060e3",
   "metadata": {},
   "outputs": [],
   "source": []
  }
 ],
 "metadata": {
  "kernelspec": {
   "display_name": "Python 3 (ipykernel)",
   "language": "python",
   "name": "python3"
  },
  "language_info": {
   "codemirror_mode": {
    "name": "ipython",
    "version": 3
   },
   "file_extension": ".py",
   "mimetype": "text/x-python",
   "name": "python",
   "nbconvert_exporter": "python",
   "pygments_lexer": "ipython3",
   "version": "3.12.5"
  }
 },
 "nbformat": 4,
 "nbformat_minor": 5
}
