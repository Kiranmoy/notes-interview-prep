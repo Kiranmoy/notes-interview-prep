{
 "cells": [
  {
   "cell_type": "markdown",
   "id": "1639a528-b87e-4cb3-8084-3f828ca554d8",
   "metadata": {},
   "source": [
    "# Missing Number"
   ]
  },
  {
   "cell_type": "markdown",
   "id": "e228ad35-df1f-44b2-846b-c0d7ca348e55",
   "metadata": {},
   "source": [
    "Write a function to find the missing number in a given integer array of 1 to 100. The function takes two parameters: the array and the number of elements that need to be in the array.  For example, if we want to find the missing number from 1 to 6, the second parameter will be 6.\n",
    "\n",
    "**Example**:\n",
    "```python\n",
    "missing_number([1, 2, 3, 4, 6], 6) # 5\n",
    "```"
   ]
  },
  {
   "cell_type": "markdown",
   "id": "0f7b466d-9a32-45d2-b1f7-701ab762d9d1",
   "metadata": {},
   "source": [
    "## Solution"
   ]
  },
  {
   "cell_type": "code",
   "execution_count": 4,
   "id": "a165ce7d-6980-45fd-91c3-99caf0744687",
   "metadata": {},
   "outputs": [
    {
     "name": "stdout",
     "output_type": "stream",
     "text": [
      "5\n",
      "73\n"
     ]
    }
   ],
   "source": [
    "def missing_number(arr, n):\n",
    "    # Calculate the sum of first n natural numbers\n",
    "    total = n * (n + 1) // 2\n",
    "    \n",
    "    # Calculate the sum of numbers in the array\n",
    "    sum_arr = sum(arr)\n",
    "    \n",
    "    # Find the missing number by subtracting sum_arr from total\n",
    "    missing = total - sum_arr\n",
    "    \n",
    "    return missing\n",
    " \n",
    "# Example\n",
    "print(missing_number([1, 2, 3, 4, 6], 6))  # Output: 5\n",
    "\n",
    "my_list = [1, 2, 3, 4, 5, 6, 7, 8, 9, 10, 11, 12, 13, 14, 15, 16, 17, 18, 19, 20, 21, 22, 23, 24, 25, 26, 27, 28, 29, 30, 31, 32, 33, 34, 35, 36, 37, 38, 39, 40, 41, 42, 43, 44, 45, 46, 47, 48, 49, 50, 51, 52, 53, 54, 55, 56, 57, 58, 59, 60, 61, 62, 63, 64, 65, 66, 67, 68, 69, 70, 71, 72, 74, 75, 76, 77, 78, 79, 80, 81, 82, 83, 84, 85, 86, 87, 88, 89, 90, 91, 92, 93, 94, 95, 96, 97, 98, 99, 100]\n",
    "print(missing_number(my_list, 100))        # Output: 73"
   ]
  },
  {
   "cell_type": "markdown",
   "id": "c295164a-cbc3-4d0b-b213-669360bd8266",
   "metadata": {},
   "source": [
    "# Two Sum (Find Pairs)"
   ]
  },
  {
   "cell_type": "markdown",
   "id": "25b05a7b-a92c-4b42-94b0-050922391cda",
   "metadata": {},
   "source": [
    "Given an array of integers `nums` and an integer `target`, **return the indices of the two numbers such that they add up to `target`**.\n",
    "\n",
    "You may assume that each input would have **exactly one solution**, and you may not use the same element twice.\n",
    "\n",
    "You can return the answer in any order.\n",
    "\n",
    "**Example 1**:\n",
    "```\n",
    "Input: nums = [2,7,11,15], target = 9\n",
    "Output: [0,1]\n",
    "Explanation: Because nums[0] + nums[1] == 9, we return [0, 1].\n",
    "```\n",
    "\n",
    "**Example 2**:\n",
    "```\n",
    "Input: nums = [3,2,4], target = 6\n",
    "Output: [1,2]\n",
    "```\n",
    "\n",
    "**Example 3**:\n",
    "```\n",
    "Input: nums = [3,3], target = 6\n",
    "Output: [0,1]\n",
    "```\n",
    "\n",
    "> ***Often, the interviewer checks whether the candidate asks valid questions to clarify the requirement before starting to solve the problem.***\n",
    "\n",
    "**Questions to clarify the requirements about the problem**:\n",
    "* Does the array contain only positive or negative numbers? - **YES**.\n",
    "* What if the same pair repeats twice? \n",
    "* Should we print it every time?\n",
    "* If the reverse of the pair is acceptable, that is, can we print both (4,1) and (1,4) if the given sum is 5?\n",
    "* Do we need to print only the distinct pair?  - **YES**.\n",
    "* Is (3,3) a valid pair for the given sum of 6? - **NO**.\n",
    "* How big is the array? - **`-109 to 109`**\n",
    "\n",
    "**Constraints**:\n",
    "* `2 <= nums.length <= 104`\n",
    "* `-109 <= nums[i] <= 109`\n",
    "* `-109 <= target <= 109`\n",
    "* Only one valid answer exists.\n",
    "\n",
    "**Follow-up**: Can you come up with an algorithm that is less than `O(n^2)` time complexity?"
   ]
  },
  {
   "cell_type": "markdown",
   "id": "5074ab38-dfd3-4532-8a59-de468ff2adb5",
   "metadata": {},
   "source": [
    "## Solution"
   ]
  },
  {
   "cell_type": "code",
   "execution_count": 6,
   "id": "231c3dc6-ce14-4a39-a431-87afe2337952",
   "metadata": {},
   "outputs": [
    {
     "name": "stdout",
     "output_type": "stream",
     "text": [
      "0 6\n",
      "1 5\n",
      "3 5\n"
     ]
    }
   ],
   "source": [
    "#  Find Pairs\n",
    "#  LeetCode 1 - Two Sum\n",
    "\n",
    "def find_pairs(nums, target):\n",
    "    for i in range(len(nums)):\n",
    "        for j in range(i+1, len(nums)):\n",
    "            # For a distinct pair, that is, (2,2) or (3,3), is not valid for a sum of 6.\n",
    "            if nums[i] == nums[j]:\n",
    "                continue\n",
    "            elif nums[i] + nums[j] == target:\n",
    "                print(i, j)\n",
    "\n",
    "myList = [1,2,3,2,3,4,5,6]\n",
    "find_pairs(myList, 6)"
   ]
  },
  {
   "cell_type": "markdown",
   "id": "fae64f35-2bb0-461a-abe5-fc12bb9ceed4",
   "metadata": {},
   "source": [
    "```pyython\n",
    "# Leetcode answer\n",
    "def two_sum(nums, target):\n",
    "    seen = {}\n",
    "    \n",
    "    for i, num in enumerate(nums):\n",
    "        complement = target - num\n",
    "        \n",
    "        if complement in seen:\n",
    "            return [seen[complement], i]\n",
    "        \n",
    "        seen[num] = i\n",
    "```\n",
    "\n",
    "1. `def two_sum(nums, target)`: Define a function called `two_sum` that takes a list of integers `nums` and an integer `target` as input.\n",
    "\n",
    "2. `seen = {}`: Create an empty dictionary `seen` to store the numbers you have seen so far and their indices. Dictionary operations (adding and searching) have an average-case time complexity of `O(1)`.\n",
    "\n",
    "3. `for i, num in enumerate(nums)`: Iterate through the input list `nums` using the `enumerate` function, which returns both the index `i` and the value `num` for each element in the list. The loop runs `n` times, where `n` is the length of the input list `nums`.\n",
    "\n",
    "4. `complement = target - num`: Calculate the `complement` of the current number `num` with respect to the `target`.\n",
    "\n",
    "5. `if complement in seen`: Check if the complement is present in the `seen` dictionary. This operation has an average-case time complexity of `O(1)`.\n",
    "\n",
    "6. `return [seen[complement], i]`: If the `complement` is found in the `seen` dictionary, return the index of the complement (`seen[complement]`) and the current index `i`.\n",
    "\n",
    "7. `seen[num] = i`: If the complement is not found, add the current number `num` and its index `i` to the `seen` dictionary. This operation has an average-case time complexity of `O(1)`.\n",
    "\n",
    "The overall time complexity of this solution is `O(n)`, where n is the number of elements in the input list. This is because we iterate through the list once, and the operations inside the loop (dictionary addition and searching) have an average-case time complexity of `O(1)`."
   ]
  },
  {
   "cell_type": "code",
   "execution_count": null,
   "id": "149542b5-bf07-4482-910f-86d962b58992",
   "metadata": {},
   "outputs": [],
   "source": []
  }
 ],
 "metadata": {
  "kernelspec": {
   "display_name": "Python 3 (ipykernel)",
   "language": "python",
   "name": "python3"
  },
  "language_info": {
   "codemirror_mode": {
    "name": "ipython",
    "version": 3
   },
   "file_extension": ".py",
   "mimetype": "text/x-python",
   "name": "python",
   "nbconvert_exporter": "python",
   "pygments_lexer": "ipython3",
   "version": "3.12.5"
  }
 },
 "nbformat": 4,
 "nbformat_minor": 5
}
