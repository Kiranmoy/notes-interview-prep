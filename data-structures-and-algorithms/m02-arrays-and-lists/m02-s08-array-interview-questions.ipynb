{
 "cells": [
  {
   "cell_type": "markdown",
   "id": "1639a528-b87e-4cb3-8084-3f828ca554d8",
   "metadata": {},
   "source": [
    "# Missing Number"
   ]
  },
  {
   "cell_type": "markdown",
   "id": "e228ad35-df1f-44b2-846b-c0d7ca348e55",
   "metadata": {},
   "source": [
    "Write a function to find the missing number in a given integer array of 1 to 100. \n",
    "\n",
    "The function takes two parameters: **the array** and **the number of elements** that need to be in the array.  \n",
    "\n",
    "For example, if we want to find the missing number from 1 to 6, the second parameter will be 6.\n",
    "\n",
    "**Example**:\n",
    "```python\n",
    "missing_number([1, 2, 3, 4, 6], 6) # 5\n",
    "```"
   ]
  },
  {
   "cell_type": "markdown",
   "id": "0f7b466d-9a32-45d2-b1f7-701ab762d9d1",
   "metadata": {},
   "source": [
    "## Solution"
   ]
  },
  {
   "cell_type": "code",
   "execution_count": 4,
   "id": "a165ce7d-6980-45fd-91c3-99caf0744687",
   "metadata": {},
   "outputs": [
    {
     "name": "stdout",
     "output_type": "stream",
     "text": [
      "5\n",
      "73\n"
     ]
    }
   ],
   "source": [
    "def missing_number(arr, n):\n",
    "    # Calculate the sum of first n natural numbers\n",
    "    total = n * (n + 1) // 2\n",
    "    \n",
    "    # Calculate the sum of numbers in the array\n",
    "    sum_arr = sum(arr)\n",
    "    \n",
    "    # Find the missing number by subtracting sum_arr from total\n",
    "    missing = total - sum_arr\n",
    "    \n",
    "    return missing\n",
    " \n",
    "# Example\n",
    "print(missing_number([1, 2, 3, 4, 6], 6))  # Output: 5\n",
    "\n",
    "my_list = [1, 2, 3, 4, 5, 6, 7, 8, 9, 10, 11, 12, 13, 14, 15, 16, 17, 18, 19, 20, 21, 22, 23, 24, 25, 26, 27, 28, 29, 30, 31, 32, 33, 34, 35, 36, 37, 38, 39, 40, 41, 42, 43, 44, 45, 46, 47, 48, 49, 50, 51, 52, 53, 54, 55, 56, 57, 58, 59, 60, 61, 62, 63, 64, 65, 66, 67, 68, 69, 70, 71, 72, 74, 75, 76, 77, 78, 79, 80, 81, 82, 83, 84, 85, 86, 87, 88, 89, 90, 91, 92, 93, 94, 95, 96, 97, 98, 99, 100]\n",
    "print(missing_number(my_list, 100))        # Output: 73"
   ]
  },
  {
   "cell_type": "markdown",
   "id": "c295164a-cbc3-4d0b-b213-669360bd8266",
   "metadata": {},
   "source": [
    "# Find Pairs & Two Sum"
   ]
  },
  {
   "cell_type": "markdown",
   "id": "25b05a7b-a92c-4b42-94b0-050922391cda",
   "metadata": {},
   "source": [
    "Given an array of integers `nums` and an integer `target`, **return the indices of the two numbers such that they add up to `target`**.\n",
    "\n",
    "You may assume that each input would have **exactly one solution**, and you may not use the same element twice.\n",
    "\n",
    "You can return the answer in any order.\n",
    "\n",
    "**Example 1**:\n",
    "```\n",
    "Input: nums = [2,7,11,15], target = 9\n",
    "Output: [0,1]\n",
    "Explanation: Because nums[0] + nums[1] == 9, we return [0, 1].\n",
    "```\n",
    "\n",
    "**Example 2**:\n",
    "```\n",
    "Input: nums = [3,2,4], target = 6\n",
    "Output: [1,2]\n",
    "```\n",
    "\n",
    "**Example 3**:\n",
    "```\n",
    "Input: nums = [3,3], target = 6\n",
    "Output: [0,1]\n",
    "```\n",
    "\n",
    "> ***Often, the interviewer checks whether the candidate asks valid questions to clarify the requirement before starting to solve the problem.***\n",
    "\n",
    "**Questions to clarify the requirements about the problem**:\n",
    "* Does the array contain only positive or negative numbers? - **YES**.\n",
    "* Will it have duplicate numbers? - **NO**, since there will be exactly one solution.\n",
    "* If the reverse of the pair is acceptable, that is, can we print both (4,1) and (1,4) if the given sum is 5? - **YES** any order is acceptable but only one will be considered since there will be exactly one solution.\n",
    "* Do we need to print only the distinct pair?  - **YES**, that is (2,2) or (3,3) will not be a valid pair.\n",
    "* Is (3,3) a valid pair for the given sum of 6? - **NO**.\n",
    "* How big is the array? - **`-109 to 109`**\n",
    "\n",
    "**Constraints**:\n",
    "* `2 <= nums.length <= 104`\n",
    "* `-109 <= nums[i] <= 109`\n",
    "* `-109 <= target <= 109`\n",
    "* Only one valid answer exists.\n",
    "\n",
    "**Follow-up**: Can you come up with an algorithm that is less than `O(n^2)` time complexity?"
   ]
  },
  {
   "cell_type": "markdown",
   "id": "5074ab38-dfd3-4532-8a59-de468ff2adb5",
   "metadata": {},
   "source": [
    "## Solution: Find Pairs - List all possible pairs whose sum is equal to the target"
   ]
  },
  {
   "cell_type": "code",
   "execution_count": 3,
   "id": "231c3dc6-ce14-4a39-a431-87afe2337952",
   "metadata": {},
   "outputs": [
    {
     "name": "stdout",
     "output_type": "stream",
     "text": [
      "0 6\n",
      "1 5\n",
      "3 5\n"
     ]
    }
   ],
   "source": [
    "def find_pairs(nums, target):\n",
    "    for i in range(len(nums)):\n",
    "        for j in range(i+1, len(nums)):\n",
    "            # For a distinct pair, that is, (2,2) or (3,3), is not valid for a sum of 6.\n",
    "            if nums[i] == nums[j]:\n",
    "                continue\n",
    "            elif nums[i] + nums[j] == target:\n",
    "                print(i, j)\n",
    "\n",
    "myList = [1,2,3,2,3,4,5,6]\n",
    "find_pairs(myList, 6)"
   ]
  },
  {
   "cell_type": "markdown",
   "id": "7a1a6c25-06a1-4b80-80dc-4a97ae50728f",
   "metadata": {},
   "source": [
    "**Time Complexity**: O(n^2)\n",
    "\n",
    "**Space Complexity**: O(n)"
   ]
  },
  {
   "cell_type": "markdown",
   "id": "7820633d-1a5d-4a48-9cd4-1f0d1bfd7d2f",
   "metadata": {},
   "source": [
    "## Solution: Two Sum - return only one pair whose sum is equal to the target"
   ]
  },
  {
   "cell_type": "code",
   "execution_count": 4,
   "id": "07f11979-9f77-4931-8e15-9f1839ccd176",
   "metadata": {},
   "outputs": [
    {
     "name": "stdout",
     "output_type": "stream",
     "text": [
      "Indices of the two numbers are: [0, 1]\n"
     ]
    }
   ],
   "source": [
    "def two_sum(nums, target):\n",
    "    seen = {}\n",
    "    \n",
    "    for i, num in enumerate(nums):\n",
    "        complement = target - num\n",
    "        \n",
    "        if complement in seen:\n",
    "            return [seen[complement], i]\n",
    "        \n",
    "        seen[num] = i\n",
    " \n",
    "nums = [2, 7, 11, 15]\n",
    "target = 9\n",
    "indices = two_sum(nums, target)\n",
    "print(f\"Indices of the two numbers are: {indices}\")"
   ]
  },
  {
   "cell_type": "markdown",
   "id": "c3bbc35d-d3e3-49cc-82dc-cc8e8c77592c",
   "metadata": {},
   "source": [
    "1. `def two_sum(nums, target)`: Define a function called `two_sum` that takes a list of integers `nums` and an integer `target` as input.\n",
    "\n",
    "2. `seen = {}`: Create an empty dictionary `seen` to store the numbers you have seen so far and their indices. Dictionary operations (adding and searching) have an average-case time complexity of `O(1)`.\n",
    "\n",
    "3. `for i, num in enumerate(nums)`: Iterate through the input list `nums` using the `enumerate` function, which returns both the index `i` and the value `num` for each element in the list. The loop runs `n` times, where `n` is the length of the input list `nums`.\n",
    "\n",
    "4. `complement = target - num`: Calculate the `complement` of the current number `num` with respect to the `target`.\n",
    "\n",
    "5. `if complement in seen`: Check if the complement is present in the `seen` dictionary. This operation has an average-case time complexity of `O(1)`.\n",
    "\n",
    "6. `return [seen[complement], i]`: If the `complement` is found in the `seen` dictionary, return the index of the complement (`seen[complement]`) and the current index `i`.\n",
    "\n",
    "7. `seen[num] = i`: If the complement is not found, add the current number `num` and its index `i` to the `seen` dictionary. This operation has an average-case time complexity of `O(1)`.\n",
    "\n",
    "The overall time complexity of this solution is `O(n)`, where n is the number of elements in the input list. This is because we iterate through the list once, and the operations inside the loop (dictionary addition and searching) have an average-case time complexity of `O(1)`.\n",
    "\n",
    "**Time Complexity**: O(n)\n",
    "\n",
    "**Space Complexity**: O(1)"
   ]
  },
  {
   "cell_type": "markdown",
   "id": "2c61ce20-00e0-4b41-84ee-b2e31808515d",
   "metadata": {},
   "source": [
    "# Max Product of Two Integers"
   ]
  },
  {
   "cell_type": "markdown",
   "id": "61ce8124-77dd-4d72-bccc-853f513459a0",
   "metadata": {},
   "source": [
    "Find the maximum product of two integers in an array where all elements are positive.\n",
    "\n",
    "**Example**\n",
    "```python\n",
    "arr = [1, 7, 3, 4, 9, 5] \n",
    "max_product(arr) # Output: 63 (9*7)\n",
    "```\n",
    "\n",
    "**Questions**:\n",
    "* Can the array have duplicate numbers?"
   ]
  },
  {
   "cell_type": "markdown",
   "id": "d25cbbc8-c055-447c-a03c-914cb06d9905",
   "metadata": {},
   "source": [
    "## Solution"
   ]
  },
  {
   "cell_type": "code",
   "execution_count": 6,
   "id": "6d789a89-9e22-4609-abfb-03cec5e3ed90",
   "metadata": {},
   "outputs": [
    {
     "name": "stdout",
     "output_type": "stream",
     "text": [
      "63\n"
     ]
    }
   ],
   "source": [
    "def max_product(arr):\n",
    "    \n",
    "    # Initialize two variables to store the two largest numbers\n",
    "    max1, max2 = 0, 0  # O(1), constant time initialization\n",
    " \n",
    "    # Iterate through the array\n",
    "    for num in arr:  # O(n), where n is the length of the array\n",
    "        \n",
    "        # If the current number is greater than max1, update max1 and max2\n",
    "        if num > max1:  # O(1), constant time comparison\n",
    "            max2 = max1  # O(1), constant time assignment\n",
    "            max1 = num  # O(1), constant time assignment\n",
    "        \n",
    "        # If the current number is greater than max2 but not max1, update max2\n",
    "        elif num > max2:  # O(1), constant time comparison\n",
    "            max2 = num  # O(1), constant time assignment\n",
    " \n",
    "    # Return the product of the two largest numbers\n",
    "    return max1 * max2  # O(1), constant time multiplication\n",
    " \n",
    "arr = [1, 7, 3, 4, 9, 5]\n",
    "print(max_product(arr))  # Output: 63 (9*7)"
   ]
  },
  {
   "cell_type": "markdown",
   "id": "f9f3bc12-79e7-4b3e-a98c-041609e04203",
   "metadata": {},
   "source": [
    "**Time Complexity**: O(n)\n",
    "\n",
    "**Space Complexity**: O(1)"
   ]
  },
  {
   "cell_type": "markdown",
   "id": "d286bf36-0c82-4769-8ed2-890c812fcb73",
   "metadata": {},
   "source": [
    "# Middle List"
   ]
  },
  {
   "cell_type": "markdown",
   "id": "676f27cd-5620-4b95-bd96-d78a7807f938",
   "metadata": {},
   "source": [
    "Write a function called middle that takes a list and returns a new list that contains all, excluding the first and last elements.\n",
    "\n",
    "**Example**:\n",
    "```python\n",
    "myList = [1, 2, 3, 4]\n",
    "middle(myList)  # [2,3]\n",
    "```"
   ]
  },
  {
   "cell_type": "markdown",
   "id": "60199d40-17d9-4ae1-84ee-97076e825c7b",
   "metadata": {},
   "source": [
    "## Solution"
   ]
  },
  {
   "cell_type": "code",
   "execution_count": 7,
   "id": "327d9b5c-053f-4b2d-a512-44d2ba4157fe",
   "metadata": {},
   "outputs": [
    {
     "name": "stdout",
     "output_type": "stream",
     "text": [
      "[2, 3]\n"
     ]
    }
   ],
   "source": [
    "def middle(lst):\n",
    "    # Return a new list containing all elements from the original list, excluding the first and last elements\n",
    "    return lst[1:-1]\n",
    " \n",
    "my_list = [1, 2, 3, 4]\n",
    " \n",
    "print(middle(my_list))  # Output: [2, 3]"
   ]
  },
  {
   "cell_type": "markdown",
   "id": "f2b0de82-28c1-4b0d-b9fb-fa28abdb96ed",
   "metadata": {},
   "source": [
    "**Time Complexity**: \n",
    "* The function middle has a time complexity of `O(n)` where `n` is the length of the input list `lst`.\n",
    "* The reason is that slicing a list takes linear time proportional to the length of the slice\n",
    "* In this case, the slice goes from index `1` to the second-last index, so the length of the slice is `n - 2`, which is still in the order of `O(n)`.\n",
    "\n",
    "**Space Complexity**: \n",
    "* The space complexity of the function is also `O(n)` because it returns a new list that is a slice of the original list.\n",
    "* The new list has `n - 2` elements, which is still in the order of `O(n)`.\n",
    "* The memory usage is proportional to the length of the input list `lst`."
   ]
  },
  {
   "cell_type": "markdown",
   "id": "494b04eb-2343-497d-9bc0-84a217df60df",
   "metadata": {},
   "source": [
    "# Sum of diagonal elements of a Matrix"
   ]
  },
  {
   "cell_type": "markdown",
   "id": "640a7864-b35c-4b91-9819-ce547844382c",
   "metadata": {},
   "source": [
    "Given 2D list calculate the sum of diagonal elements.\n",
    "\n",
    "**Example**:\n",
    "```python\n",
    "myList2D= [[1,2,3],[4,5,6],[7,8,9]] \n",
    "diagonal_sum(myList2D) # 15\n",
    "```\n",
    "\n",
    "**Question**:\n",
    "* Does the matrix rows & columns length are equal? - **YES**."
   ]
  },
  {
   "cell_type": "markdown",
   "id": "6011ef61-af06-4304-a051-30242c60ed78",
   "metadata": {},
   "source": [
    "## Solution"
   ]
  },
  {
   "cell_type": "code",
   "execution_count": 8,
   "id": "3e1058ff-238d-4ae2-a68b-b66492e26779",
   "metadata": {},
   "outputs": [
    {
     "data": {
      "text/plain": [
       "15"
      ]
     },
     "execution_count": 8,
     "metadata": {},
     "output_type": "execute_result"
    }
   ],
   "source": [
    "def diagonal_sum(matrix):\n",
    "    # Initialize the sum to 0\n",
    "    total = 0\n",
    " \n",
    "    # Iterate through the rows of the matrix\n",
    "    for i in range(len(matrix)):\n",
    "        # Add the diagonal element to the total sum\n",
    "        total += matrix[i][i]\n",
    " \n",
    "    return total\n",
    "\n",
    "myList2D= [[1,2,3],[4,5,6],[7,8,9]] \n",
    "diagonal_sum(myList2D) # 15"
   ]
  },
  {
   "cell_type": "markdown",
   "id": "54071726-29fb-4349-a6f5-3c0794e6e179",
   "metadata": {},
   "source": [
    "**Time complexity**:\n",
    "* `O(n)`, where `n` is the number of rows (or columns) in the matrix.\n",
    "* The function iterates through the rows once.\n",
    "\n",
    "**Space complexity**: `O(1)`, as the function only uses a single variable to store the sum (`total`)."
   ]
  },
  {
   "cell_type": "markdown",
   "id": "3ddf00a4-4419-4338-9e26-e2c4228b30ac",
   "metadata": {},
   "source": [
    "# Best Score"
   ]
  },
  {
   "cell_type": "markdown",
   "id": "9200ea0a-843c-4957-9131-a308db1a6f82",
   "metadata": {},
   "source": [
    "Given a list, write a function to get the **first** & **second** best scores from the list.\n",
    "\n",
    "The list may contain duplicates.\n",
    "\n",
    "**Example**:\n",
    "```python\n",
    "myList = [84,85,86,87,85,90,85,83,23,45,84,1,2,0]\n",
    "first_second(myList) # 90 87\n",
    "```"
   ]
  },
  {
   "cell_type": "markdown",
   "id": "1c83523d-defc-4ef5-b906-54a011f0e011",
   "metadata": {},
   "source": [
    "## Solution"
   ]
  },
  {
   "cell_type": "code",
   "execution_count": 9,
   "id": "0122958f-e19d-40d5-8b66-838c7263be86",
   "metadata": {},
   "outputs": [
    {
     "name": "stdout",
     "output_type": "stream",
     "text": [
      "(90, 87)\n"
     ]
    }
   ],
   "source": [
    "def first_second(my_list):\n",
    "    max1, max2 = float('-inf'), float('-inf')\n",
    " \n",
    "    for num in my_list:\n",
    "        if num > max1:\n",
    "            max2 = max1\n",
    "            max1 = num\n",
    "        elif num > max2 and num != max1:\n",
    "            max2 = num\n",
    " \n",
    "    return max1, max2\n",
    " \n",
    "my_list = [84, 85, 86, 87, 85, 90, 85, 83, 23, 45, 84, 1, 2, 0]\n",
    "print(first_second(my_list))  # Output: (90, 87)"
   ]
  },
  {
   "cell_type": "markdown",
   "id": "79b351c0-901c-4381-acee-646f44929074",
   "metadata": {},
   "source": [
    "**Time Complexity**: O(n)\n",
    "\n",
    "**Space Complexity**: O(1)"
   ]
  },
  {
   "cell_type": "markdown",
   "id": "bf07d005-a1ef-4cde-ba81-f2251ea80ba4",
   "metadata": {},
   "source": [
    "# Duplicate Number"
   ]
  },
  {
   "cell_type": "markdown",
   "id": "ed95132b-1d23-4bfa-8c7e-1f2bacb6dc92",
   "metadata": {},
   "source": [
    "Write a function to remove the duplicate numbers on given integer array/list.\n",
    "\n",
    "**Example**\n",
    "```python\n",
    "remove_duplicates([1, 1, 2, 2, 3, 4, 5])\n",
    "Output : [1, 2, 3, 4, 5]\n",
    "```"
   ]
  },
  {
   "cell_type": "markdown",
   "id": "e997c509-4306-4d68-b635-8ab15376ec13",
   "metadata": {},
   "source": [
    "## Solution"
   ]
  },
  {
   "cell_type": "code",
   "execution_count": 10,
   "id": "ea490650-eaa1-4ed6-b190-60157504c806",
   "metadata": {},
   "outputs": [
    {
     "name": "stdout",
     "output_type": "stream",
     "text": [
      "[1, 2, 3, 4, 5]\n"
     ]
    }
   ],
   "source": [
    "def remove_duplicates(lst):\n",
    "    unique_lst = []\n",
    "    seen = set()\n",
    "    for item in lst:\n",
    "        if item not in seen:\n",
    "            unique_lst.append(item)\n",
    "            seen.add(item)\n",
    "    return unique_lst\n",
    " \n",
    "my_list = [1, 1, 2, 2, 3, 4, 5]\n",
    "print(remove_duplicates(my_list))  # Output: [1, 2, 3, 4, 5]"
   ]
  },
  {
   "cell_type": "markdown",
   "id": "fef6365a-79d0-4eef-a2d3-79a6fa59d244",
   "metadata": {},
   "source": [
    "**Time Complexity**: O(n)\n",
    "\n",
    "**Space Complexity**: O(n)"
   ]
  },
  {
   "cell_type": "markdown",
   "id": "8ae02b13-27c4-4322-bb64-fc20c4e96f92",
   "metadata": {},
   "source": [
    "# Pairs"
   ]
  },
  {
   "cell_type": "markdown",
   "id": "20cfe15d-7f75-4974-be60-5de4f25749ac",
   "metadata": {},
   "source": [
    "Write a function to find all pairs of an integer array whose sum is equal to a given number. Do not consider commutative pairs.\n",
    "\n",
    "**Example**:\n",
    "```python\n",
    "pair_sum([2, 4, 3, 5, 6, -2, 4, 7, 8, 9],7)\n",
    "Output : ['2+5', '4+3', '3+4', '-2+9']\n",
    "```\n",
    "\n",
    "**Note**:\n",
    "* `4+3` comes from the second and third elements of the main list.\n",
    "* `3+4` comes from the third and seventh elements of the main list."
   ]
  },
  {
   "cell_type": "markdown",
   "id": "599aa7f2-40e7-49cb-a4b8-47993b656be6",
   "metadata": {},
   "source": [
    "## Solution"
   ]
  },
  {
   "cell_type": "code",
   "execution_count": 11,
   "id": "343cacae-8137-4b5f-8277-c8933311eac8",
   "metadata": {},
   "outputs": [
    {
     "name": "stdout",
     "output_type": "stream",
     "text": [
      "['2+5', '4+3', '3+4', '-2+9']\n"
     ]
    }
   ],
   "source": [
    "def pair_sum(arr, target_sum):\n",
    "    result = []\n",
    "    for i in range(len(arr)):\n",
    "        for j in range(i+1, len(arr)):\n",
    "            if arr[i] + arr[j] == target_sum:\n",
    "                result.append(f\"{arr[i]}+{arr[j]}\")\n",
    "    return result\n",
    " \n",
    "arr = [2, 4, 3, 5, 6, -2, 4, 7, 8, 9]\n",
    "target_sum = 7\n",
    "print(pair_sum(arr, target_sum))  # Output: ['2+5', '4+3', '3+4', '-2+9']"
   ]
  },
  {
   "cell_type": "markdown",
   "id": "9d62fa73-a88a-46d3-b637-bcc852041a8b",
   "metadata": {},
   "source": [
    "**Time Complexity**: O(n^2)\n",
    "\n",
    "**Space Complexity**: O(n)"
   ]
  },
  {
   "cell_type": "markdown",
   "id": "516ee8f9-0e47-452e-8ab8-e5449628bb78",
   "metadata": {},
   "source": [
    "# Contains Duplicate"
   ]
  },
  {
   "cell_type": "markdown",
   "id": "986e01e1-321e-4848-9f9f-92dc18858e49",
   "metadata": {},
   "source": [
    "Given an integer array nums, \n",
    "* return `true` if any value appears at least twice in the array, and\n",
    "* return `false` if every element is distinct.\n",
    "\n",
    "**Example** :\n",
    "```python\n",
    "Input: nums = [1,2,3,1]\n",
    "Output: true\n",
    "```\n",
    "Hint: Use sets"
   ]
  },
  {
   "cell_type": "markdown",
   "id": "16a21d9c-1277-45ed-8fcd-592351262bc4",
   "metadata": {},
   "source": [
    "## Solution"
   ]
  },
  {
   "cell_type": "code",
   "execution_count": 13,
   "id": "84a7fd0b-b634-4372-b896-241667c6648c",
   "metadata": {},
   "outputs": [
    {
     "name": "stdout",
     "output_type": "stream",
     "text": [
      "True\n"
     ]
    }
   ],
   "source": [
    "def contains_duplicate(nums):\n",
    "    seen = set()\n",
    "    for num in nums:\n",
    "        if num in seen:\n",
    "            return True\n",
    "        seen.add(num)\n",
    "    return False\n",
    " \n",
    "# Example usage\n",
    "nums = [1, 2, 3, 4, 5, 6, 7, 8, 9, 1]\n",
    "print(contains_duplicate(nums))  # Output: True"
   ]
  },
  {
   "cell_type": "markdown",
   "id": "747aaf07-ba1f-40f3-871a-b91243d2a463",
   "metadata": {},
   "source": [
    "**Time Complexity**: O(n)\n",
    "\n",
    "**Space Complexity**: O(n)"
   ]
  },
  {
   "cell_type": "markdown",
   "id": "f78baaec-a5b4-421d-863d-242eeb725471",
   "metadata": {},
   "source": [
    "# Permutation"
   ]
  },
  {
   "cell_type": "markdown",
   "id": "fa09ffc1-48db-48b0-8057-3473e93eafc6",
   "metadata": {},
   "source": [
    "Given two lists, write a method to check if one List is a permutation of the other list.\n",
    "\n",
    "**NOTE**: If two strings/lists have the same characters but in different orders, then the two strings/lists are permutations of one another. "
   ]
  },
  {
   "cell_type": "markdown",
   "id": "79683027-5cbe-4c35-88c6-834c247044b7",
   "metadata": {},
   "source": [
    "## Solution"
   ]
  },
  {
   "cell_type": "code",
   "execution_count": 15,
   "id": "f1eb757c-e3cc-4cfa-8034-a5e5c6a7da2f",
   "metadata": {},
   "outputs": [
    {
     "name": "stdout",
     "output_type": "stream",
     "text": [
      "True\n"
     ]
    }
   ],
   "source": [
    "def permuntation(list1, list2):\n",
    "    if len(list1) != len(list2):\n",
    "        return False\n",
    "    list1.sort()                    # Time Complexity - O(n log n)\n",
    "    list2.sort()                    # Time Complexity - O(n log n)\n",
    "    if list1 == list2:  \n",
    "        return True\n",
    "    return False\n",
    "\n",
    "list1 = [1, 2, 3]\n",
    "list2 = [2, 3, 1]\n",
    "print(permuntation(list1, list2))"
   ]
  },
  {
   "cell_type": "markdown",
   "id": "fddd4026-f5a7-40f6-8d3f-896ebf51ea1f",
   "metadata": {},
   "source": [
    "**Time Complexity**: O(n log n)\n",
    "* The `sort()` method of a Python list utilizes the Timsort algorithm.\n",
    "* Timsort is a hybrid stable sorting algorithm, meaning it preserves the relative order of equal elements.\n",
    "* It time complexity is O(n log n).\n",
    "\n",
    "**Space Complexity**: O(1)"
   ]
  },
  {
   "cell_type": "markdown",
   "id": "94e4688b-6794-46ea-b10d-97ddba32f1a6",
   "metadata": {},
   "source": [
    "# Rotate Matrix (Rotate Image)"
   ]
  },
  {
   "attachments": {
    "1e1af2d3-fc1e-4456-9e9c-11648354022b.png": {
     "image/png": "[encoded data removed]"
    },
    "564455be-f1e2-43d3-8aa6-65a496c09940.png": {
     "image/png": "[encoded data removed]"
    }
   },
   "cell_type": "markdown",
   "id": "adcb5052-3bda-4681-9247-128db72c7d58",
   "metadata": {},
   "source": [
    "You are given an `n x n` **2D matrix** representing an image, rotate the image by **90 degrees** (clockwise).\n",
    "\n",
    "You have to rotate the image in-place, which means you have to modify the input 2D matrix directly. \n",
    "\n",
    "> **DO NOT allocate another 2D matrix and do the rotation.**\n",
    "\n",
    "**Example 1**:\n",
    "\n",
    "![image.png](attachment:564455be-f1e2-43d3-8aa6-65a496c09940.png)\n",
    "\n",
    "```python\n",
    "Input: matrix = [[1,2,3],[4,5,6],[7,8,9]]\n",
    "Output: [[7,4,1],[8,5,2],[9,6,3]]\n",
    "```\n",
    "\n",
    "**Example 2**:\n",
    "\n",
    "![image.png](attachment:1e1af2d3-fc1e-4456-9e9c-11648354022b.png)\n",
    "\n",
    "```python\n",
    "Input: matrix = [[5,1,9,11],[2,4,8,10],[13,3,6,7],[15,14,12,16]]\n",
    "Output: [[15,13,2,5],[14,3,4,1],[12,6,8,9],[16,7,10,11]]\n",
    "```\n",
    "\n",
    "**Constraints**:\n",
    "* `n == matrix.length == matrix[i].length`\n",
    "* `1 <= n <= 20`\n",
    "* `-1000 <= matrix[i][j] <= 1000`"
   ]
  },
  {
   "cell_type": "markdown",
   "id": "552511e4-a73a-46e8-bd65-3f5a460f6616",
   "metadata": {},
   "source": [
    "## Solution"
   ]
  },
  {
   "cell_type": "code",
   "execution_count": 18,
   "id": "ffc6ce03-3f25-41ce-ab54-4268eb9fc7bb",
   "metadata": {},
   "outputs": [
    {
     "name": "stdout",
     "output_type": "stream",
     "text": [
      "[[7, 4, 1], [8, 5, 2], [9, 6, 3]]\n",
      "\n",
      "[[15, 13, 2, 5], [14, 3, 4, 1], [12, 6, 8, 9], [16, 7, 10, 11]]\n"
     ]
    }
   ],
   "source": [
    "def rotate(matrix):\n",
    "    n = len(matrix)\n",
    " \n",
    "    # Transpose the matrix\n",
    "    for i in range(n):         # Iterate over the rows\n",
    "        for j in range(i, n):  # Iterate over the columns starting from the current row 'i'\n",
    "            # Swap the elements at positions (i, j) and (j, i)\n",
    "            matrix[i][j], matrix[j][i] = matrix[j][i], matrix[i][j]\n",
    " \n",
    "    # Reverse each row\n",
    "    for row in matrix:  # Iterate over each row in the matrix\n",
    "        row.reverse()  # Reverse the elements in the current row\n",
    "\n",
    "matrix = [[1,2,3],[4,5,6],[7,8,9]]\n",
    "rotate(matrix)\n",
    "print(matrix)\n",
    "\n",
    "print()\n",
    "\n",
    "matrix = [[5,1,9,11],[2,4,8,10],[13,3,6,7],[15,14,12,16]]\n",
    "rotate(matrix)\n",
    "print(matrix)"
   ]
  },
  {
   "cell_type": "markdown",
   "id": "593084ca-d0aa-4b31-af4b-ef2b1862ef94",
   "metadata": {},
   "source": [
    "**Explanation**:\n",
    "\n",
    "1. `n = len(matrix)` - Get the number of rows/columns in the square matrix and store it in the variable `n`.\n",
    "\n",
    "2. **Transpose the matrix**:\n",
    "    * `for i in range(n)`: - Start a loop that iterates over the rows.\n",
    "    * `for j in range(i, n)`:\n",
    "        * Start a nested loop that iterates over the columns starting from the current row i.\n",
    "        * This ensures we only swap elements in the upper triangle of the matrix, avoiding double swaps.\n",
    "    * `matrix[i][j]`, `matrix[j][i]` = `matrix[j][i]`, `matrix[i][j]` - Swap the elements at positions (i, j) and (j, i).\n",
    "\n",
    "4. **Reverse each row**:\n",
    "   * `for row in matrix`: - Start a loop that iterates over each row in the matrix.\n",
    "   * `row.reverse()` - Reverse the elements in the current row.\n",
    "\n",
    "The **time complexity** of this code is `O(n^2)`, as both the transpose and reverse steps involve nested loops that iterate over all the elements in the matrix. \n",
    "\n",
    "The **space complexity** is `O(1)`, as the rotation is performed in-place without allocating any additional data structures."
   ]
  },
  {
   "cell_type": "code",
   "execution_count": null,
   "id": "5abf7736-63be-4014-8205-0bae4f6ea3a3",
   "metadata": {},
   "outputs": [],
   "source": []
  }
 ],
 "metadata": {
  "kernelspec": {
   "display_name": "Python 3 (ipykernel)",
   "language": "python",
   "name": "python3"
  },
  "language_info": {
   "codemirror_mode": {
    "name": "ipython",
    "version": 3
   },
   "file_extension": ".py",
   "mimetype": "text/x-python",
   "name": "python",
   "nbconvert_exporter": "python",
   "pygments_lexer": "ipython3",
   "version": "3.12.5"
  }
 },
 "nbformat": 4,
 "nbformat_minor": 5
}
