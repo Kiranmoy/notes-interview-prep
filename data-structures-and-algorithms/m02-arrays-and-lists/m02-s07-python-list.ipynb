{
 "cells": [
  {
   "attachments": {},
   "cell_type": "markdown",
   "id": "9f629025-40da-476d-88e3-668fc01251f5",
   "metadata": {},
   "source": [
    "List in Python is a built-in data structure, which means that it comes with the standard Python library.\n",
    "\n",
    "**A list is a data structure that holds an order collection of items.**\n",
    "\n",
    "The values in the list are called elements or items.\n",
    "\n",
    "**The main difference between an array and a list is that:**\n",
    "* Arrays can store only homogeneous data.\n",
    "* A list can store both homogeneous and heterogeneous data."
   ]
  },
  {
   "cell_type": "code",
   "execution_count": 2,
   "id": "d44d5c6b-7920-44e7-81fd-3eadaac773e1",
   "metadata": {},
   "outputs": [
    {
     "name": "stdout",
     "output_type": "stream",
     "text": [
      "[]\n",
      "[1, 2, 3, 4]\n",
      "['Milk', 'Cheese', 'Butter']\n",
      "[1, 1.5, 'spam']\n",
      "['spam', 2.0, 5, [1, 1.5, 'spam']]\n"
     ]
    }
   ],
   "source": [
    "# Creating lists\n",
    "\n",
    "empty_list = []\n",
    "integer_list = [1,2,3,4]\n",
    "string_list = ['Milk', 'Cheese', 'Butter']\n",
    "mixed_list = [1, 1.5, 'spam']\n",
    "nested_list = ['spam', 2.0, 5, [1, 1.5, 'spam']]\n",
    "\n",
    "print(empty_list)\n",
    "print(integer_list)\n",
    "print(string_list)\n",
    "print(mixed_list)\n",
    "print(nested_list)"
   ]
  },
  {
   "cell_type": "markdown",
   "id": "dba0d320-8d1a-4902-886b-6f847e2048c7",
   "metadata": {},
   "source": [
    "**Time Complexity → `O(1)`**\n",
    "\n",
    "**Space Complexity → `O(n)`**"
   ]
  },
  {
   "cell_type": "markdown",
   "id": "f508b7eb-0862-47e1-8776-4fad0023dbf6",
   "metadata": {},
   "source": [
    "# Accessing a List"
   ]
  },
  {
   "cell_type": "markdown",
   "id": "e19853f1-dde1-485e-a471-f5fe48803043",
   "metadata": {},
   "source": [
    "You can think of a list as a relationship between indexes and elements and this relationship is called mapping.\n",
    "* Each index maps to one of the elements. \n",
    "* List indexes work the same as array indexes.\n",
    "* Any integer expression can be used as an index."
   ]
  },
  {
   "cell_type": "code",
   "execution_count": 3,
   "id": "ecca8a06-a47b-4b0e-88c9-385df24b6755",
   "metadata": {},
   "outputs": [
    {
     "name": "stdout",
     "output_type": "stream",
     "text": [
      "Milk\n",
      "Cheese\n",
      "Butter\n"
     ]
    }
   ],
   "source": [
    "shoppingList = ['Milk', 'Cheese', 'Butter']\n",
    "\n",
    "print(shoppingList[0])  # Milk\n",
    "print(shoppingList[1])  # Cheese\n",
    "print(shoppingList[2])  # Butter"
   ]
  },
  {
   "cell_type": "markdown",
   "id": "7c23a939-20af-41b3-8c9c-1f6f95234a7b",
   "metadata": {},
   "source": [
    "If you try to read or write an element that **does not exist**, you will get an **error**."
   ]
  },
  {
   "cell_type": "code",
   "execution_count": 4,
   "id": "c39ef2bd-26b3-4607-b520-20382a05f6a5",
   "metadata": {},
   "outputs": [
    {
     "ename": "IndexError",
     "evalue": "list index out of range",
     "output_type": "error",
     "traceback": [
      "\u001b[1;31m---------------------------------------------------------------------------\u001b[0m",
      "\u001b[1;31mIndexError\u001b[0m                                Traceback (most recent call last)",
      "Cell \u001b[1;32mIn[4], line 1\u001b[0m\n\u001b[1;32m----> 1\u001b[0m \u001b[38;5;28mprint\u001b[39m(\u001b[43mshoppingList\u001b[49m\u001b[43m[\u001b[49m\u001b[38;5;241;43m3\u001b[39;49m\u001b[43m]\u001b[49m)  \u001b[38;5;66;03m# IndexError: list index out of range\u001b[39;00m\n",
      "\u001b[1;31mIndexError\u001b[0m: list index out of range"
     ]
    }
   ],
   "source": [
    "print(shoppingList[3])  # IndexError: list index out of range"
   ]
  },
  {
   "cell_type": "markdown",
   "id": "3dd8397a-77e3-4e83-9569-bcfa5dea17a4",
   "metadata": {},
   "source": [
    "By using the **`IN` operator**, we can find out if an element exists in this list or not."
   ]
  },
  {
   "cell_type": "code",
   "execution_count": 5,
   "id": "bfef1898-88b5-4ccf-acab-6c91b2e3e79b",
   "metadata": {},
   "outputs": [
    {
     "name": "stdout",
     "output_type": "stream",
     "text": [
      "True\n"
     ]
    }
   ],
   "source": [
    "shoppingList = ['Milk', 'Cheese', 'Butter']\n",
    "print('Milk' in shoppingList)   # True"
   ]
  },
  {
   "cell_type": "markdown",
   "id": "4b71b2db-fa72-4e89-97c7-e7a90497a588",
   "metadata": {},
   "source": [
    "If this is returning **`True`**, it means that it exists here.\n",
    "\n",
    "If it turns **`False`**, it means that milk does not exist here.\n",
    "\n",
    "**Time Complexity → `O(1)`**\n",
    "\n",
    "**Space Complexity → `O(1)`**"
   ]
  },
  {
   "cell_type": "markdown",
   "id": "b89cf0d6-f844-4024-a3f4-fbe2f7eabf0e",
   "metadata": {},
   "source": [
    "# Traversing a List"
   ]
  },
  {
   "cell_type": "markdown",
   "id": "4bc12ba9-0002-4a9d-b52d-410f7b4e375a",
   "metadata": {},
   "source": [
    "The most common way to traverse the elements of a list is with a for loop."
   ]
  },
  {
   "cell_type": "code",
   "execution_count": 6,
   "id": "12dd8e05-5e1f-4f31-aea4-f74b91fe0b9a",
   "metadata": {},
   "outputs": [
    {
     "name": "stdout",
     "output_type": "stream",
     "text": [
      "Milk\n",
      "Cheese\n",
      "Butter\n"
     ]
    }
   ],
   "source": [
    "shoppingList = ['Milk', 'Cheese', 'Butter']\n",
    "\n",
    "for i in shoppingList:\n",
    "  print(i)"
   ]
  },
  {
   "cell_type": "markdown",
   "id": "46979b4c-61d4-4ae4-84c2-df7e2ae1c5aa",
   "metadata": {},
   "source": [
    "**What if we have an integer list and we want to do some operations, mathematical operations on this list?**\n",
    "\n",
    "We can perform any update operation on the list elements like this.\n",
    "\n",
    "To traverse through the list elements using indexes and updating them, we need to use the **`range( )`** function."
   ]
  },
  {
   "cell_type": "code",
   "execution_count": 11,
   "id": "071581a2-b873-4d12-b05e-f9c4ed6951bd",
   "metadata": {},
   "outputs": [
    {
     "name": "stdout",
     "output_type": "stream",
     "text": [
      "Milk buy\n",
      "Cheese buy\n",
      "Butter buy\n"
     ]
    }
   ],
   "source": [
    "shoppingList = ['Milk', 'Cheese', 'Butter']\n",
    "\n",
    "for i in range(len(shoppingList)):\n",
    "  shoppingList[i] = shoppingList[i] + \" buy\"\n",
    "  print(shoppingList[i])"
   ]
  },
  {
   "cell_type": "markdown",
   "id": "679d5649-63ec-4141-8857-e3a043a8f3f3",
   "metadata": {},
   "source": [
    "**Time Complexity → `O(n)`**\n",
    "\n",
    "**Space Complexity → `O(1)`**"
   ]
  },
  {
   "cell_type": "markdown",
   "id": "878ed637-11df-44f6-8c89-17d0455fd2d2",
   "metadata": {},
   "source": [
    "# Updating elements in a List"
   ]
  },
  {
   "cell_type": "markdown",
   "id": "7632eae7-7752-4a60-bce0-f6af53ad833f",
   "metadata": {},
   "source": [
    "Lists are mutable data structures, that's why you can change the order of elements in a list or reassign an item in a list."
   ]
  },
  {
   "cell_type": "code",
   "execution_count": 14,
   "id": "a6f3d1e2-36a0-4dba-a0a5-f3f0d231cecf",
   "metadata": {},
   "outputs": [
    {
     "name": "stdout",
     "output_type": "stream",
     "text": [
      "[1, 2, 3, 4]\n",
      "[1, 10, 3, 4]\n"
     ]
    }
   ],
   "source": [
    "myList= [1,2,3,4]\n",
    "print(myList)       # [1,2,3,4]\n",
    "\n",
    "myList[1] = 10\n",
    "print(myList)       # [1,10,3,4]"
   ]
  },
  {
   "cell_type": "markdown",
   "id": "e4fda486-8ed1-4b69-8d71-a7885d851c65",
   "metadata": {},
   "source": [
    "**Time Complexity → `O(1)`**\n",
    "\n",
    "**Space Complexity → `O(1)`**"
   ]
  },
  {
   "cell_type": "markdown",
   "id": "fe36685c-7a06-4a02-827b-fd318afdd82f",
   "metadata": {},
   "source": [
    "# Inserting elements in a List"
   ]
  },
  {
   "cell_type": "markdown",
   "id": "91e995a1-e127-4247-b1ad-461eccd53916",
   "metadata": {},
   "source": [
    "There are **four ways** of inserting a value into the list.\n",
    "* Inserting an element **at the beginning** of the list → **`insert( )`** method\n",
    "* Inserting an element **at any location** of the list → **`insert( )`** method\n",
    "* Inserting an element **at the end** of the list → **`append( )`** method\n",
    "* Inserting list element **at the end** of another list → **`extend( )`** method"
   ]
  },
  {
   "cell_type": "code",
   "execution_count": 2,
   "id": "9ce3ecf4-96c0-4bf7-b929-db70ed810fa8",
   "metadata": {},
   "outputs": [
    {
     "name": "stdout",
     "output_type": "stream",
     "text": [
      "[1, 2, 3, 4]\n"
     ]
    }
   ],
   "source": [
    "myList= [1,2,3,4]\n",
    "print(myList)       # [1,2,3,4]"
   ]
  },
  {
   "cell_type": "markdown",
   "id": "0ca3fdf8-2fed-4bd0-8008-7bdbeec1214f",
   "metadata": {},
   "source": [
    "## Inserting an element at the beginning of the list"
   ]
  },
  {
   "cell_type": "code",
   "execution_count": 3,
   "id": "08acb4c4-4a15-4891-9964-90b1c3b97637",
   "metadata": {},
   "outputs": [
    {
     "name": "stdout",
     "output_type": "stream",
     "text": [
      "[10, 1, 2, 3, 4]\n"
     ]
    }
   ],
   "source": [
    "myList.insert(0, 10)\n",
    "print(myList)       # [10,1,2,3,4]"
   ]
  },
  {
   "cell_type": "markdown",
   "id": "03d2759f-23f1-4ee8-bdbc-a95a8ab7eca8",
   "metadata": {},
   "source": [
    "When we add an element at the beginning of the list, all elements have to move one step right and this is a very time-consuming operation.\n",
    "* **Time Complexity → `O(n)`**\n",
    "* **Space Complexity → `O(1)`**"
   ]
  },
  {
   "cell_type": "markdown",
   "id": "bf576f9c-0e68-48af-b440-2cf7a1b1a2fb",
   "metadata": {},
   "source": [
    "## Inserting an element at any location of the list"
   ]
  },
  {
   "cell_type": "code",
   "execution_count": 4,
   "id": "2f733b58-d759-457f-b45a-6a91d81ae0a9",
   "metadata": {},
   "outputs": [
    {
     "name": "stdout",
     "output_type": "stream",
     "text": [
      "[10, 1, 2, 3, 15, 4]\n"
     ]
    }
   ],
   "source": [
    "myList.insert(4, 15)  # list.insert(index, value)\n",
    "print(myList)       # [1,2,3,15,4]"
   ]
  },
  {
   "cell_type": "markdown",
   "id": "b87c0614-8731-4093-b52d-2f325adf3d02",
   "metadata": {},
   "source": [
    "**Time Complexity → `O(n)`**\n",
    "\n",
    "**Space Complexity → `O(1)`**"
   ]
  },
  {
   "cell_type": "markdown",
   "id": "9bf750f8-b7c7-40f5-85de-88aa3e9f311c",
   "metadata": {},
   "source": [
    "## Inserting an element at the end of the list"
   ]
  },
  {
   "cell_type": "markdown",
   "id": "6ae4d1a8-7818-476a-847b-64484b947dc4",
   "metadata": {},
   "source": [
    "With the **`append( )`** method, we can only add an element at the end of the list."
   ]
  },
  {
   "cell_type": "code",
   "execution_count": 21,
   "id": "638f0b30-8e6c-4904-b078-df2381420779",
   "metadata": {},
   "outputs": [
    {
     "name": "stdout",
     "output_type": "stream",
     "text": [
      "[10, 1, 2, 3, 15, 4, 50, 50, 50]\n"
     ]
    }
   ],
   "source": [
    "myList.append(50)\n",
    "print(myList)       # [1,2,3,4,50]"
   ]
  },
  {
   "cell_type": "markdown",
   "id": "5e381daf-2213-4ebf-be0c-3631304a01fa",
   "metadata": {},
   "source": [
    "This is a very efficient way of adding elements because in this case, we don't have to move any element right or left. \n",
    "\n",
    "It's just straight away added the elements.\n",
    "\n",
    "**Time Complexity → `O(1)`**\n",
    "\n",
    "**Space Complexity → `O(1)`**"
   ]
  },
  {
   "cell_type": "markdown",
   "id": "1f802909-dca5-45c6-9cd7-6cb8483f2cf0",
   "metadata": {},
   "source": [
    "## Inserting list element at the end of another list"
   ]
  },
  {
   "cell_type": "markdown",
   "id": "f9391573-ba98-4b2e-8bee-507da442aa6f",
   "metadata": {},
   "source": [
    "By using the **`extend( )`** method, we can add another list to our list."
   ]
  },
  {
   "cell_type": "code",
   "execution_count": 23,
   "id": "6dde5bc5-3f75-4dc9-ae82-1ac439510064",
   "metadata": {},
   "outputs": [
    {
     "name": "stdout",
     "output_type": "stream",
     "text": [
      "[10, 1, 2, 3, 15, 4, 50, 50, 50, 11, 12, 13, 14, 11, 12, 13, 14]\n"
     ]
    }
   ],
   "source": [
    "newList = [11, 12, 13, 14]\n",
    "myList.extend(newList)\n",
    "print(myList)       # [1,2,3,4, 11, 12, 13, 14]"
   ]
  },
  {
   "cell_type": "markdown",
   "id": "0d467f80-e05f-4297-84f0-a9998a3bee38",
   "metadata": {},
   "source": [
    "# Slice from a list"
   ]
  },
  {
   "cell_type": "markdown",
   "id": "bad72f6f-f6db-4a8f-8313-7bd0553fb861",
   "metadata": {},
   "source": [
    "For slicing we use the slice operator **`[ : ]`**"
   ]
  },
  {
   "cell_type": "code",
   "execution_count": 24,
   "id": "caf5299e-aed1-4b79-a209-5a1427e32d89",
   "metadata": {},
   "outputs": [
    {
     "name": "stdout",
     "output_type": "stream",
     "text": [
      "[1, 2]\n",
      "[1, 2]\n",
      "[2, 3, 4]\n",
      "[1, 2, 3, 4]\n"
     ]
    }
   ],
   "source": [
    "myList= [1,2,3,4]\n",
    "print(myList[0:2])        # [1,2]\n",
    "print(myList[:2])         # [1,2]\n",
    "print(myList[1:])         # [2,3,4]\n",
    "print(myList[:])          # [1,2,3,4]"
   ]
  },
  {
   "cell_type": "markdown",
   "id": "3e6a7219-104e-4105-bc72-414772defcd0",
   "metadata": {},
   "source": [
    "The second index is not included in our output.\n",
    "\n",
    "By using the slice operator, we can update multiple elements in the list."
   ]
  },
  {
   "cell_type": "code",
   "execution_count": 25,
   "id": "99842ac1-ce46-4d1c-89c6-dbd03e157351",
   "metadata": {},
   "outputs": [
    {
     "name": "stdout",
     "output_type": "stream",
     "text": [
      "[10, 20, 3, 4]\n"
     ]
    }
   ],
   "source": [
    "myList= [1,2,3,4]\n",
    "\n",
    "myList[0:2] = [10,20]\n",
    "print(myList)        # [10,20,3,4]"
   ]
  },
  {
   "cell_type": "markdown",
   "id": "171352ac-b99e-4707-8c0c-0a02c2ee041f",
   "metadata": {},
   "source": [
    "# Delete elements from a list"
   ]
  },
  {
   "cell_type": "markdown",
   "id": "42bd1302-9c91-4309-adc2-56c21af701d3",
   "metadata": {},
   "source": [
    "There are several ways of deleting elements from a list. \n",
    "\n",
    "The list methods for deletion are:\n",
    "* **`pop( )`** method\n",
    "* **`del`** keyword\n",
    "* **`remove( )`** method"
   ]
  },
  {
   "cell_type": "code",
   "execution_count": 26,
   "id": "d4e38274-68a5-4cfe-867b-fd1eeb0bba6d",
   "metadata": {},
   "outputs": [
    {
     "name": "stdout",
     "output_type": "stream",
     "text": [
      "2\n",
      "[1, 3, 4]\n",
      "4\n",
      "[1, 3]\n"
     ]
    }
   ],
   "source": [
    "myList= [1,2,3,4]\n",
    "\n",
    "print(myList.pop(1))    # 2         --- O(K) where k < n\n",
    "print(myList)           # [1,3,4]\n",
    "\n",
    "print(myList.pop())     # 4        --- O(1)\n",
    "print(myList)           # [1,3]"
   ]
  },
  {
   "cell_type": "markdown",
   "id": "8221864e-2ad5-44b3-9c2d-06a7b6db33e7",
   "metadata": {},
   "source": [
    "As we delete the second element, all elements on the right side of the deleted element move one step left.\n",
    "\n",
    "If we don't provide any index over here, the method will delete the last element in the list.\n",
    "\n",
    "The pop method is very useful when we want to keep our deleted elements because this function returns the deleted element by itself.\n",
    "\n",
    "**Time Complexity → `O(1)`**\n",
    "\n",
    "**Space Complexity → `O(1)`**"
   ]
  },
  {
   "cell_type": "markdown",
   "id": "7a05fd0d-313d-4997-8ff7-502bf85a7ded",
   "metadata": {},
   "source": [
    "If you don't need the removed value, we can use the **`del`** keyword.\n",
    "\n",
    "The **`del`** keyword also works based on the index."
   ]
  },
  {
   "cell_type": "code",
   "execution_count": 27,
   "id": "8920532d-c254-4fa4-b9c9-4d373b61d1ff",
   "metadata": {},
   "outputs": [
    {
     "name": "stdout",
     "output_type": "stream",
     "text": [
      "[1, 3, 4]\n"
     ]
    }
   ],
   "source": [
    "myList= [1,2,3,4]\n",
    "\n",
    "del myList[1]\n",
    "print(myList)           # [1,3,4]"
   ]
  },
  {
   "cell_type": "markdown",
   "id": "d73fdc39-a2ac-4a2b-b843-797a1c066d03",
   "metadata": {},
   "source": [
    "The **`del`** keyword does not return the deleted element. \n",
    "\n",
    "By using the **`del`** keyword, we can delete more than one element using slicing."
   ]
  },
  {
   "cell_type": "code",
   "execution_count": 28,
   "id": "51fc496d-83b1-40e6-9387-d2ae88709ce9",
   "metadata": {},
   "outputs": [
    {
     "name": "stdout",
     "output_type": "stream",
     "text": [
      "[3, 4]\n"
     ]
    }
   ],
   "source": [
    "myList= [1,2,3,4]\n",
    "\n",
    "del myList[0:2]\n",
    "print(myList)           # [3,4]"
   ]
  },
  {
   "cell_type": "markdown",
   "id": "be8ef1d3-2ce0-4c3c-b695-270d8f60f2d8",
   "metadata": {},
   "source": [
    "**Time Complexity → `O(n)`** - deleting last value / **`O(n)`** - deleting any value\n",
    "\n",
    "**Space Complexity → `O(1)`**"
   ]
  },
  {
   "cell_type": "markdown",
   "id": "a1bc86e1-01ec-420e-870f-80a9d5dee46a",
   "metadata": {},
   "source": [
    "The **`remove( )`** method three, which method is very useful when you know the element itself.\n",
    "\n",
    "You don't need to know the index.\n",
    "\n",
    "We can just provide the value and delete that value."
   ]
  },
  {
   "cell_type": "code",
   "execution_count": 29,
   "id": "fc107b8b-b3f4-44dd-afea-44f3953ccd48",
   "metadata": {},
   "outputs": [
    {
     "name": "stdout",
     "output_type": "stream",
     "text": [
      "[1, 3, 4]\n"
     ]
    }
   ],
   "source": [
    "myList= [1,2,3,4]\n",
    "\n",
    "myList.remove(2)\n",
    "print(myList)           # [1,3,4]"
   ]
  },
  {
   "cell_type": "markdown",
   "id": "1ec41f4e-e1f7-48c1-9cd5-5bc637eb25de",
   "metadata": {},
   "source": [
    "**Time Complexity → `O(n)`** - deleting last value / **`O(n)`** - deleting any value\n",
    "\n",
    "**Space Complexity → `O(1)`**"
   ]
  },
  {
   "cell_type": "markdown",
   "id": "6a2293aa-e11e-42a9-89b5-e89e79a2952d",
   "metadata": {},
   "source": [
    "# Searching an element in a list"
   ]
  },
  {
   "cell_type": "markdown",
   "id": "0b465d0a-94c4-4bc0-88d9-d450380174af",
   "metadata": {},
   "source": [
    "**How can we search for an element in the list?**\n",
    "\n",
    "There are two ways of searching for an element in the list.\n",
    "* Using **`in`** Operator\n",
    "* Using **linear search**"
   ]
  },
  {
   "cell_type": "markdown",
   "id": "c1e88a98-1b42-4623-bb48-0b33c1decfd3",
   "metadata": {},
   "source": [
    "## Using `in` Operator"
   ]
  },
  {
   "cell_type": "code",
   "execution_count": 31,
   "id": "b838e965-0456-40dd-be93-e93f9dcdc3b8",
   "metadata": {},
   "outputs": [
    {
     "name": "stdout",
     "output_type": "stream",
     "text": [
      "50 is in the list\n"
     ]
    }
   ],
   "source": [
    "myList= [10,20,30,40, 50, 60, 70, 80, 90]\n",
    "\n",
    "# using in opeartor\n",
    "target = 50\n",
    "if target in myList:               # ------> O(n)\n",
    "  print(f\"{target} is in the list\")\n",
    "else:\n",
    "  print(f\"{target} is not in the list\")"
   ]
  },
  {
   "cell_type": "markdown",
   "id": "1fededad-af95-4ec9-8a54-54f03af1a773",
   "metadata": {},
   "source": [
    "When using the **`‘in’`** operator with a list in Python, the time complexity is **`O(n)`**. \n",
    "\n",
    "In the worst case, where `n` is the **number of the elements** in the list, this is because under the hood Python performs a **linear search** to check if an element is present in the list or not.\n",
    "\n",
    "The **`‘in’`** operator checks for the presence of specified values within a sequence by iterating through a sequence of elements and comparing each element to the target value.\n",
    "* If the target value is found, the search is successful and it returns **`True`**.\n",
    "* If the target value is not found, after checking all elements, then in operator returns **`False`**.\n",
    "\n",
    "Keep in mind that the **`in` operator** has a better time complexity when used with sets and dictionaries which are implemented as **hash tables**. \n",
    "\n",
    "In the case of sets & dictionaries, the average case lookup time is **`O(1)`**. \n",
    "\n",
    "However, using a set and dictionary requires additional space and loses information about the order and index of the elements.\n",
    "\n",
    "But in the case of the list, it is **`O(n)`**."
   ]
  },
  {
   "cell_type": "markdown",
   "id": "5f4881e7-f52a-4ff5-9d5a-362c8c3e1224",
   "metadata": {},
   "source": [
    "## Using linear Search"
   ]
  },
  {
   "cell_type": "code",
   "execution_count": 33,
   "id": "eace0e95-7215-40c7-b508-185d56535a83",
   "metadata": {},
   "outputs": [
    {
     "name": "stdout",
     "output_type": "stream",
     "text": [
      "4\n"
     ]
    }
   ],
   "source": [
    "# Linear Search\n",
    "def linear_search(p_list, p_target):\n",
    "    \"\"\"\n",
    "    enumerate() function iterate over the list,\n",
    "    while also keeping the track of the index of the current item.\n",
    "    \"\"\"\n",
    "    for i, value in enumerate(p_list):  # ------ O(n)\n",
    "        if value == p_target:           # ------ O(1)\n",
    "            return i                    # ------ O(1)\n",
    "    return -1                           # ------ O(1)\n",
    "\n",
    "myList = [10, 20, 30, 40, 50, 60, 70, 80, 90]\n",
    "target = 50\n",
    "print(linear_search(myList,target))     # 4"
   ]
  },
  {
   "cell_type": "markdown",
   "id": "11ef78a0-fd0a-4fd2-b4ad-d23b0714973a",
   "metadata": {},
   "source": [
    "**Linear search** means that we are going to search for an element in the list, checking each element one by one.\n",
    "\n",
    "Now let's look at the time complexity of the linear search.\n",
    "\n",
    "**Time complexity is `O(1)`** for the **`enumerate()`** function and **`O(n)`** for the loop, rest all statements have **`O(1)`** time complexity.\n",
    "\n",
    "If we combine all these time complexities, **the linear search time complexity is going to be `O(n)`**. \n",
    "\n",
    "As the name of the linear search function implies, the time complexity has to be linear.\n",
    "\n",
    "Now the **space complexity for each operator and linear search** is going to be **`O(1)`** because in this case no extra memory is required to perform these operations.\n",
    "\n",
    "**Time Complexity → `O(n)`**\n",
    "\n",
    "**Space Complexity → `O(1)`**"
   ]
  },
  {
   "cell_type": "markdown",
   "id": "917a5c5e-ad3c-4217-8285-4a0b571cae68",
   "metadata": {},
   "source": [
    "# Time & Space Complexity of Lists"
   ]
  },
  {
   "cell_type": "markdown",
   "id": "08b2b0d2-3537-4e26-9c40-c0b52734c212",
   "metadata": {},
   "source": [
    "## Creating an empty List"
   ]
  },
  {
   "cell_type": "markdown",
   "id": "cb570bc3-f18e-4b53-b8e0-ed97e4700947",
   "metadata": {},
   "source": [
    "**Time Complexity → `O(1)`**\n",
    "\n",
    "**Space Complexity → `O(1)`**\n",
    "\n",
    "**EXPLANATION:**\n",
    "\n",
    "Now creating an empty list is a **constant time `O(1)`** operation because no elements need to be added to the list.  The interpreter simply initializes the list, object with a length of zero and allocates the required memory for the list object itself, which includes metadata such as Len and the capacity of the list.\n",
    "\n",
    "Now the space complexity for creating an empty list is **constant `O(1)`** because you only need to allocate memory for the list object itself. An empty list does not contain any elements, so additional memory is not required for storing elements. The memory for list objects includes pointers to the list elements and other metadata. So that's why the **space complexity is `O(1)`**."
   ]
  },
  {
   "cell_type": "markdown",
   "id": "d4109e3f-0485-4fad-b87b-3e80e16155ec",
   "metadata": {},
   "source": [
    "## Creating a list"
   ]
  },
  {
   "cell_type": "markdown",
   "id": "0f16d937-7eff-4ae8-85a9-3e91e2143138",
   "metadata": {},
   "source": [
    "**Time Complexity → `O(1)`**\n",
    "\n",
    "**Space Complexity → `O(n)`**\n",
    "\n",
    "**EXPLANATION:**\n",
    "\n",
    "Now, creating a list with `N` elements requires allocating memory for the list object and its elements and initializing the elements with the given value. Each element in the list needs to be added to the memory, and this process takes time proportional to the number of elements. That's why the time complexity of creating a list with n elements is **`O(n)`**.\n",
    "\n",
    "The space complexity of the creating list with n element is also **`O(n)`**. This is because you need to allocate memory for each element in the list as well as for the list object itself, which includes metadata such as len and capacity of the list. That's why the time and space complexity for creating a list with n element is **`O(n)`**."
   ]
  },
  {
   "cell_type": "markdown",
   "id": "6da46706-e801-43f4-9950-418384285f36",
   "metadata": {},
   "source": [
    "## Inserting a value in a list"
   ]
  },
  {
   "cell_type": "markdown",
   "id": "7144c429-6c87-4c25-badc-b0abb42d3d8c",
   "metadata": {},
   "source": [
    "**Time Complexity → `O(n)`**\n",
    "\n",
    "**Space Complexity → `O(1)`**\n",
    "\n",
    "**EXPLANATION:**\n",
    "\n",
    "Now when you are inserting a value in a list, the time complexity in the worst case is **`O(n)`** because if we insert the element at the beginning of the list, all elements have to shift one step right and this is a time-consuming operation. That's why the time complexity is going to be **`O(n)`**.\n",
    "\n",
    "Now the space complexity is **`O(1)`** because in this case the additional memory is not required for one value in the list."
   ]
  },
  {
   "cell_type": "markdown",
   "id": "d72f1c56-5567-49f0-99c4-fcef59ffc471",
   "metadata": {},
   "source": [
    "## Traversing a given list"
   ]
  },
  {
   "cell_type": "markdown",
   "id": "40060feb-4748-47f9-a32a-b34ccf00acf6",
   "metadata": {},
   "source": [
    "**Time Complexity → `O(n)`**\n",
    "\n",
    "**Space Complexity → `O(1)`**\n",
    "\n",
    "**EXPLANATION:**\n",
    "\n",
    "When we are traversing a list, we have to visit all elements of the list. If we have n elements in the list, the time complexity is going to be **`O(n)`**.\n",
    "\n",
    "The space complexity is **`O(1)`** because we don't need an extra memory for traversing a list."
   ]
  },
  {
   "cell_type": "markdown",
   "id": "2c60b116-09cc-473c-8c40-aeb2ca4d1967",
   "metadata": {},
   "source": [
    "## Accessing a given cell"
   ]
  },
  {
   "cell_type": "markdown",
   "id": "9653ee63-b3be-4472-89f9-7df78fadd56c",
   "metadata": {},
   "source": [
    "**Time Complexity → `O(1)`**\n",
    "\n",
    "**Space Complexity → `O(1)`**\n",
    "\n",
    "**EXPLANATION:**\n",
    "\n",
    "When we are accessing a given cell in the list, in this case, the time complexity is **`O(1)`** because we are accessing a given cell in the list by using their indexes. That's why the time complexity and the space complexity are **`O(1)`**."
   ]
  },
  {
   "cell_type": "markdown",
   "id": "211d43f0-a985-4507-88b2-59dad60e39dc",
   "metadata": {},
   "source": [
    "## Searching a given cell"
   ]
  },
  {
   "cell_type": "markdown",
   "id": "6f9cdf20-a475-4365-bcdc-7c744e819903",
   "metadata": {},
   "source": [
    "**Time Complexity → `O(n)`**\n",
    "\n",
    "**Space Complexity → `O(1)`**\n",
    "\n",
    "**EXPLANATION:**\n",
    "\n",
    "When we are searching for a given value in the list, we are doing a linear search and we have learned that linear search takes **`O(n)`** time complexity because we are checking every element one by one if it is equal to the target element or not. In the worst case, if the element is located at the end of the list, this will take **`O(n)`** time complexity.\n",
    "\n",
    "The space complexity is **`O(1)`** because in this case additional memory is not required."
   ]
  },
  {
   "cell_type": "markdown",
   "id": "e1d8aeb7-228d-499b-8c88-a57013467763",
   "metadata": {},
   "source": [
    "## Deleting a given value"
   ]
  },
  {
   "cell_type": "markdown",
   "id": "a3b5cf78-691f-4785-8584-6537f1360068",
   "metadata": {},
   "source": [
    "**Time Complexity → `O(n)`**\n",
    "\n",
    "**Space Complexity → `O(1)`**\n",
    "\n",
    "**EXPLANATION:**\n",
    "\n",
    "For deleting a value from the list, the time complexity is going to be **`O(n)`** because if we delete the first element, all other elements have to shift one step left. That's why it is time time-consuming operation and is going to be **`O(n)`**.\n",
    "\n",
    "The space complexity is going to be **`O(1)`** because here again, an additional memory is not required to perform this operation."
   ]
  },
  {
   "cell_type": "markdown",
   "id": "b65ea938-5043-4b22-b603-43322e265b3a",
   "metadata": {},
   "source": [
    "# List Operations & functions"
   ]
  },
  {
   "cell_type": "markdown",
   "id": "8a638dd6-3577-4e72-969d-6a18db70d91c",
   "metadata": {},
   "source": [
    "We will look at list operations and list functions."
   ]
  },
  {
   "cell_type": "markdown",
   "id": "975ad8f1-c5d1-480c-9c30-7d53862c0ce9",
   "metadata": {},
   "source": [
    "## + Operator - Concatenate Lists"
   ]
  },
  {
   "cell_type": "code",
   "execution_count": 35,
   "id": "327f1b37-3e94-4bbd-a2f2-f1e53474b5b3",
   "metadata": {},
   "outputs": [
    {
     "name": "stdout",
     "output_type": "stream",
     "text": [
      "[1, 2, 3, 4, 5, 6, 7, 8]\n"
     ]
    }
   ],
   "source": [
    "a = [1, 2, 3, 4]\n",
    "b = [5, 6, 7, 8]\n",
    "c = a + b\n",
    "print(c)        # [1, 2, 3, 4, 5, 6, 7, 8l]"
   ]
  },
  {
   "cell_type": "markdown",
   "id": "6b0671a5-43ac-4327-9109-d40fa119f50a",
   "metadata": {},
   "source": [
    "## Repititive Operator ( * operator )"
   ]
  },
  {
   "cell_type": "code",
   "execution_count": 36,
   "id": "8afa73f5-40d1-4a52-ae65-f7d5982d7626",
   "metadata": {},
   "outputs": [
    {
     "name": "stdout",
     "output_type": "stream",
     "text": [
      "[0, 0, 0, 0]\n",
      "[0, 1, 0, 1, 0, 1, 0, 1]\n"
     ]
    }
   ],
   "source": [
    "a = [0]\n",
    "print(a * 4)        # [0, 0, 0, 0]\n",
    "\n",
    "a = [0, 1]\n",
    "print(a * 4)        # [0, 1, 0, 1, 0, 1, 0, 1]"
   ]
  },
  {
   "cell_type": "markdown",
   "id": "65b51f72-76ac-4225-9b92-ba634f1dd69e",
   "metadata": {},
   "source": [
    "## `len( )` function - returns the number of elements in the list"
   ]
  },
  {
   "cell_type": "code",
   "execution_count": 37,
   "id": "e56f2085-9a50-4194-a4c2-431d3921a98d",
   "metadata": {},
   "outputs": [
    {
     "name": "stdout",
     "output_type": "stream",
     "text": [
      "4\n"
     ]
    }
   ],
   "source": [
    "a = [1, 2, 3, 4]\n",
    "print(len(a))        # 4"
   ]
  },
  {
   "cell_type": "markdown",
   "id": "c2ee15c1-70cb-492f-8df4-c4ddb03734e5",
   "metadata": {},
   "source": [
    "## `max( )` function - returns the item with the highest value in the list"
   ]
  },
  {
   "cell_type": "code",
   "execution_count": 38,
   "id": "b1598f8e-e459-4fe4-ab7e-3424476d55d3",
   "metadata": {},
   "outputs": [
    {
     "name": "stdout",
     "output_type": "stream",
     "text": [
      "9\n"
     ]
    }
   ],
   "source": [
    "a = [1, 2, 3, 9]\n",
    "print(max(a))        # 9"
   ]
  },
  {
   "cell_type": "markdown",
   "id": "aafd78dc-7d64-4e04-8efe-8f9d3e2ecdd1",
   "metadata": {},
   "source": [
    "## `min( )` function - returns the item with the lowest value in the list"
   ]
  },
  {
   "cell_type": "code",
   "execution_count": 39,
   "id": "be039bfa-1583-4d4e-aaff-6502de95eea1",
   "metadata": {},
   "outputs": [
    {
     "name": "stdout",
     "output_type": "stream",
     "text": [
      "0\n"
     ]
    }
   ],
   "source": [
    "a = [1, 0, 3, 9]\n",
    "print(min(a))        # 0"
   ]
  },
  {
   "cell_type": "markdown",
   "id": "42ffa64c-b36c-47b2-a288-b8223415c44f",
   "metadata": {},
   "source": [
    "## `sum( )` function - returns the sum of all items in the list"
   ]
  },
  {
   "cell_type": "code",
   "execution_count": 40,
   "id": "5b4a9e4f-a31c-4e9d-86e6-7374813038be",
   "metadata": {},
   "outputs": [
    {
     "name": "stdout",
     "output_type": "stream",
     "text": [
      "13\n"
     ]
    }
   ],
   "source": [
    "a = [1, 0, 3, 9]\n",
    "print(sum(a))        # 13"
   ]
  },
  {
   "cell_type": "markdown",
   "id": "3204bad0-d9f8-4cdb-a5f9-9c498504e19f",
   "metadata": {},
   "source": [
    "# List & Strings"
   ]
  },
  {
   "cell_type": "markdown",
   "id": "658a8572-0daa-4035-aa1e-3c0436ec902d",
   "metadata": {},
   "source": [
    "## `list( )` function - converts a string to a list of characters"
   ]
  },
  {
   "cell_type": "code",
   "execution_count": 41,
   "id": "875c220c-243a-4ee0-aa68-ad5748875cbf",
   "metadata": {},
   "outputs": [
    {
     "name": "stdout",
     "output_type": "stream",
     "text": [
      "['s', 'p', 'a', 'm']\n"
     ]
    }
   ],
   "source": [
    "a = \"spam\"\n",
    "b = list(a)\n",
    "print(b)      # ['s', 'p', 'a', 'm']"
   ]
  },
  {
   "cell_type": "markdown",
   "id": "54ba0903-0474-40be-9fe4-b303ba5f5f63",
   "metadata": {},
   "source": [
    "## `split( )` function - split a string and returns a list of values"
   ]
  },
  {
   "cell_type": "code",
   "execution_count": 42,
   "id": "ff03b472-11d6-4db8-b7dc-d80751ffbc9e",
   "metadata": {},
   "outputs": [
    {
     "name": "stdout",
     "output_type": "stream",
     "text": [
      "['spam', 'spam', 'spam']\n"
     ]
    }
   ],
   "source": [
    "a = \"spam spam spam\"\n",
    "b = a.split() # default delimiter is space\n",
    "print(b)      # ['spam', 'spam', 'spam']"
   ]
  },
  {
   "cell_type": "code",
   "execution_count": 43,
   "id": "66a49460-b8e7-42d8-93c5-6aedbebbf575",
   "metadata": {},
   "outputs": [
    {
     "name": "stdout",
     "output_type": "stream",
     "text": [
      "['spam', 'spam', 'spam']\n"
     ]
    }
   ],
   "source": [
    "a = \"spam-spam-spam\"\n",
    "delimiter = '-'\n",
    "b = a.split(delimiter) \n",
    "print(b)      # ['spam', 'spam', 'spam']"
   ]
  },
  {
   "cell_type": "markdown",
   "id": "326e77bb-8c8c-4da4-b167-e6741495755e",
   "metadata": {},
   "source": [
    "## `join( )` function - join together a list of string"
   ]
  },
  {
   "cell_type": "code",
   "execution_count": 44,
   "id": "6e8323cd-5dca-43b6-b866-532fc8c6e388",
   "metadata": {},
   "outputs": [
    {
     "name": "stdout",
     "output_type": "stream",
     "text": [
      "spam-spam-spam\n"
     ]
    }
   ],
   "source": [
    "a = ['spam', 'spam', 'spam']\n",
    "delimiter = '-'\n",
    "b = delimiter.join(a)\n",
    "print(b)      # spam-spam-spam"
   ]
  },
  {
   "cell_type": "markdown",
   "id": "81449469-8606-47de-b5be-8d6ce9e759a0",
   "metadata": {},
   "source": [
    "# Common list pitfalls and ways to avoid them"
   ]
  },
  {
   "cell_type": "markdown",
   "id": "bb07d656-4fdb-4662-a59a-fccd87fa8ef7",
   "metadata": {},
   "source": [
    "We will look at the drawbacks of the list.  This means that careless use of a list can lead to long hours of debugging.\n",
    "\n",
    "Here are some common pitfalls and ways to avoid them.\n",
    "\n",
    "Most list methods modify the original list and return **`None`**. \n",
    "\n",
    "This is the opposite of string methods which return a new string and leave the original alone."
   ]
  },
  {
   "cell_type": "code",
   "execution_count": 46,
   "id": "7d622eb7-c60e-4578-8211-0ee09ac4ba74",
   "metadata": {},
   "outputs": [
    {
     "name": "stdout",
     "output_type": "stream",
     "text": [
      "None\n",
      "[1, 2, 3, 4, 5, 7]\n",
      "[2, 4, 3, 1, 5, 7]\n"
     ]
    }
   ],
   "source": [
    "myList = [2,4, 3, 1, 5, 7]\n",
    "original = myList[:]        # copying orignal list\n",
    "result = myList.sort()\n",
    "print (result)              # None\n",
    "print(myList)               # [1, 2, 3, 4, 5, 7]\n",
    "print(original)             # [2, 4, 3, 1, 5, 7]"
   ]
  },
  {
   "cell_type": "markdown",
   "id": "19c59efb-d2d8-47ca-8a0c-4f9fd3831d42",
   "metadata": {},
   "source": [
    "The second problem with the list is that **there are many two ways to do things**. \n",
    "\n",
    "For example, to remove an element from the list you can use the **`pop( )`** method, **`remove( )`** method, or **`delete( )`** method or even a slice assignment can be used to remove the elements.\n",
    "\n",
    "The third problem is whenever we do any operation on the list, we need to take a copy of this list. Because many methods modify the original list itself without keeping the original one.\n",
    "\n",
    "For example, if we sort this list, we will see that without keeping the original, it's sorting the elements. So the list is sorted. It modified our initial list.\n",
    "\n",
    "The best way to avoid such problems is to take a copy of this list every time."
   ]
  },
  {
   "cell_type": "markdown",
   "id": "58711969-44a8-4460-9bff-27028f466d8f",
   "metadata": {},
   "source": [
    "# List vs Arrays"
   ]
  },
  {
   "attachments": {
    "60bbfd3f-2818-4aed-91e1-6e619453f7e6.png": {
     "image/png": "[encoded data removed]"
    }
   },
   "cell_type": "markdown",
   "id": "9283fe95-86d2-4a16-8f50-93af609cad5f",
   "metadata": {},
   "source": [
    "**Similarities**:\n",
    "* Both data structures are mutable.\n",
    "* Both can be indexed and iterated through.\n",
    "* They can be both sliced.\n",
    "\n",
    "**Differences:**\n",
    "* **Arrays are specially optimized for arithmetic computations**. If you are going to perform similar operations, you should consider using an array instead of a list.\n",
    "* In a list, the **elements data types can be different**, but in an array, **all elements have to be the same data type**.\n",
    "\n",
    "Python lists are very flexible and can hold completely heterogeneous arbitrary data, but they use a lot more space than Python arrays. Each list contains pointers to a block of pointers, each of which in turn points to a full Python object. Again, the advantage of the list is flexibility: because each list element is a full structure containing both data and type information, the list can be filled with data of any desired type. Arrays lack this flexibility but are much more efficient for storing and manipulating data.\n",
    "\n",
    "The differences between the two largely exist because of the aforementioned backend implementation. Arrays in Python are implemented just like C arrays, with a pointer pointing to the first element of the array, with the rest existing contiguously in memory.\n",
    "\n",
    "![image.png](attachment:60bbfd3f-2818-4aed-91e1-6e619453f7e6.png)"
   ]
  },
  {
   "cell_type": "markdown",
   "id": "d910fef6-a742-41cf-8426-8986e7d5a649",
   "metadata": {},
   "source": [
    "# When to use arrays and when to use lists"
   ]
  },
  {
   "cell_type": "markdown",
   "id": "d048c19b-ccba-4931-a075-50aef73559a3",
   "metadata": {},
   "source": [
    "Because of the way that lists are implemented, elements can be appended to them very efficiently. \n",
    "* If you want your collection to grow and shrink in a time-efficient manner, then lists should be used.\n",
    "* It’s also better to use lists if you need to manage lots of different data types.\n",
    "\n",
    "However, arrays are better when you need to store a lot of data and perform a large number of computationally intensive mathematical operations. \n",
    "\n",
    "Note that the arrays from the NumPy library of Python are better suited for mathematical use cases and are much more efficient."
   ]
  },
  {
   "cell_type": "markdown",
   "id": "bc998ab7-5730-4660-8cb8-b9f45b3906ed",
   "metadata": {},
   "source": [
    "# List Comprehension"
   ]
  },
  {
   "cell_type": "markdown",
   "id": "bfe0f0f5-8dd2-41db-9b7c-b2512cc86306",
   "metadata": {},
   "source": [
    "**SYNTAX** → **`new_list = [new_item for item in list]`**"
   ]
  },
  {
   "cell_type": "markdown",
   "id": "aa8b523a-3a55-42d5-b40d-a85162f1b4f7",
   "metadata": {},
   "source": [
    "**Traditional approach for creating a new modified list from an existing list**"
   ]
  },
  {
   "cell_type": "code",
   "execution_count": 49,
   "id": "4f8a942d-36c8-49ce-832d-0fbb98ed6b52",
   "metadata": {},
   "outputs": [
    {
     "name": "stdout",
     "output_type": "stream",
     "text": [
      "[2, 4, 6]\n"
     ]
    }
   ],
   "source": [
    "prev_list = [1, 2, 3]\n",
    "new_list = []\n",
    "for i in prev_list:\n",
    "  multiply_2 = i * 2\n",
    "  new_list.append(multiply_2)\n",
    "\n",
    "print(new_list)"
   ]
  },
  {
   "cell_type": "markdown",
   "id": "dfe9fcc6-b640-4132-a11b-ce5470367823",
   "metadata": {},
   "source": [
    "**List comprehension is a concise way of creating a new modified list from an existing list**"
   ]
  },
  {
   "cell_type": "code",
   "execution_count": 50,
   "id": "fcd59448-5ce6-4fdc-9aa9-1d245b420272",
   "metadata": {},
   "outputs": [
    {
     "name": "stdout",
     "output_type": "stream",
     "text": [
      "[2, 4, 6]\n"
     ]
    }
   ],
   "source": [
    "prev_list = [1, 2, 3]\n",
    "new_list = [i * 2 for i in prev_list]\n",
    "print(new_list)"
   ]
  },
  {
   "cell_type": "markdown",
   "id": "200176af-891f-4a11-be57-eaf40faf8b81",
   "metadata": {},
   "source": [
    "# Conditional List Comprehension"
   ]
  },
  {
   "cell_type": "markdown",
   "id": "2be42fd4-56af-410e-86bb-98917a0874bf",
   "metadata": {},
   "source": [
    "**SYNTAX** → **`new_list = [new_item for item in list if condition]`**"
   ]
  },
  {
   "cell_type": "code",
   "execution_count": 51,
   "id": "aedf6a61-8475-44bc-b952-ed080d138797",
   "metadata": {},
   "outputs": [
    {
     "name": "stdout",
     "output_type": "stream",
     "text": [
      "[10, 2, 60, 45, 20]\n"
     ]
    }
   ],
   "source": [
    "prev_list = [-1, 10, -20, 2, -90, 60, 45, 20]\n",
    "new_list = [number for number in prev_list if number > 0]\n",
    "print(new_list)   # [10, 2, 60, 45, 20]"
   ]
  },
  {
   "cell_type": "code",
   "execution_count": null,
   "id": "a6abcb2a-d3a8-44aa-88b6-101adcac3014",
   "metadata": {},
   "outputs": [],
   "source": []
  }
 ],
 "metadata": {
  "kernelspec": {
   "display_name": "Python 3 (ipykernel)",
   "language": "python",
   "name": "python3"
  },
  "language_info": {
   "codemirror_mode": {
    "name": "ipython",
    "version": 3
   },
   "file_extension": ".py",
   "mimetype": "text/x-python",
   "name": "python",
   "nbconvert_exporter": "python",
   "pygments_lexer": "ipython3",
   "version": "3.12.5"
  }
 },
 "nbformat": 4,
 "nbformat_minor": 5
}
