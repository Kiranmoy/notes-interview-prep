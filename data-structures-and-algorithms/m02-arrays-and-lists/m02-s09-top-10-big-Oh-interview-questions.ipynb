{
 "cells": [
  {
   "cell_type": "markdown",
   "id": "fc17b2be-b0b9-45cb-8424-d7045ea8c425",
   "metadata": {},
   "source": [
    "# Question1: Product and Sum"
   ]
  },
  {
   "cell_type": "code",
   "execution_count": 16,
   "id": "03ea1e57-5fe5-4bee-9692-cd0afbc88f20",
   "metadata": {},
   "outputs": [
    {
     "name": "stdout",
     "output_type": "stream",
     "text": [
      "Sum = 10, Product = 24\n"
     ]
    }
   ],
   "source": [
    "def foo(array):\n",
    "    sum = 0                 # ------------- O(1)\n",
    "    product = 1             # ------------- O(1)\n",
    "    for i in array:         # ------------- O(n)\n",
    "        sum += i               # ------------- O(1)\n",
    "    for i in array:         # ------------- O(n)\n",
    "        product *= i           # ------------- O(1)\n",
    "    print(\"Sum = \"+str(sum)+\", Product = \"+str(product)) # ------------- O(1)\n",
    "\n",
    "ar1 = [1,2,3,4]\n",
    "foo(ar1)"
   ]
  },
  {
   "cell_type": "markdown",
   "id": "94737b7c-f526-4df6-bb85-13d3ef609439",
   "metadata": {},
   "source": [
    "**Time Complexity**: O(n)\n",
    "\n",
    "**Space Complexity**: O(1)"
   ]
  },
  {
   "cell_type": "markdown",
   "id": "b84911b5-36b6-45ec-887c-0171c6b56937",
   "metadata": {},
   "source": [
    "# Question 2: Print Pairs"
   ]
  },
  {
   "cell_type": "code",
   "execution_count": 17,
   "id": "cfe48add-7766-4f5d-bd04-2d6f4f7b3809",
   "metadata": {},
   "outputs": [
    {
     "name": "stdout",
     "output_type": "stream",
     "text": [
      "1,1\n",
      "1,2\n",
      "1,3\n",
      "1,4\n",
      "2,1\n",
      "2,2\n",
      "2,3\n",
      "2,4\n",
      "3,1\n",
      "3,2\n",
      "3,3\n",
      "3,4\n",
      "4,1\n",
      "4,2\n",
      "4,3\n",
      "4,4\n"
     ]
    }
   ],
   "source": [
    "def printPairs(array):\n",
    "    for i in array:                    # ------------- O(n)\n",
    "        for j in array:                     # ------------- O(n)\n",
    "            print(str(i)+\",\"+str(j))        # ------------- O(1)\n",
    "\n",
    "ar1 = [1,2,3,4]\n",
    "printPairs(ar1)"
   ]
  },
  {
   "cell_type": "markdown",
   "id": "6a7e48d4-1eff-4b9d-8d30-5961a4564179",
   "metadata": {},
   "source": [
    "**Time Complexity**: O(n^2)\n",
    "\n",
    "**Space Complexity**: O(1)"
   ]
  },
  {
   "cell_type": "markdown",
   "id": "755dcb07-9082-42f7-940b-50d6fdacaffd",
   "metadata": {},
   "source": [
    "# Question 3: Print Unordered Pairs"
   ]
  },
  {
   "cell_type": "code",
   "execution_count": 18,
   "id": "ff3fb2e0-a411-4681-b46b-fe66697195f8",
   "metadata": {},
   "outputs": [
    {
     "name": "stdout",
     "output_type": "stream",
     "text": [
      "1,2\n",
      "1,3\n",
      "1,4\n",
      "2,3\n",
      "2,4\n",
      "3,4\n"
     ]
    }
   ],
   "source": [
    "def printUnorderedPairs(array):\n",
    "    for i in range(0,len(array)):                       # ------------- O(n)\n",
    "        for j in range(i+1,len(array)):                      # ------------- O(n-i) = O(n)\n",
    "            print(\"{},{}\".format(array[i], array[j]))        # ------------- O(1)\n",
    "\n",
    "ar1 = [1,2,3,4]\n",
    "printUnorderedPairs(ar1)"
   ]
  },
  {
   "cell_type": "markdown",
   "id": "2165b654-0fef-444b-a99f-0ac2fdee7a4e",
   "metadata": {},
   "source": [
    "**Time Complexity**: O(n^2)\n",
    "\n",
    "**Space Complexity**: O(1)"
   ]
  },
  {
   "cell_type": "markdown",
   "id": "054726f7-6a6c-41ef-8d7e-b2c64d12e2a0",
   "metadata": {},
   "source": [
    "# Question 4: Print Unordered Pairs 2 Arrays"
   ]
  },
  {
   "cell_type": "code",
   "execution_count": 19,
   "id": "a470e307-6819-4ff3-b560-9305df4b6173",
   "metadata": {},
   "outputs": [
    {
     "name": "stdout",
     "output_type": "stream",
     "text": [
      "1,2\n",
      "1,6\n",
      "1,7\n",
      "1,8\n",
      "2,6\n",
      "2,7\n",
      "2,8\n",
      "3,6\n",
      "3,7\n",
      "3,8\n",
      "4,6\n",
      "4,7\n",
      "4,8\n",
      "5,6\n",
      "5,7\n",
      "5,8\n"
     ]
    }
   ],
   "source": [
    "def printUnorderedPairs(arrayA, arrayB):\n",
    "    for i in range(len(arrayA)):                                 # ------------- O(a)\n",
    "        for j in range(len(arrayB)):                                 # ------------- O(b)\n",
    "            if arrayA[i] < arrayB[j]:                                     # ------------- O(1)\n",
    "                print(str(arrayA[i]) + \",\" + str(arrayB[j]))              # ------------- O(1)\n",
    "\n",
    "arrayA = [1,2,3,4,5]\n",
    "arrayB = [2,6,7,8]\n",
    "\n",
    "printUnorderedPairs(arrayA, arrayB)"
   ]
  },
  {
   "cell_type": "markdown",
   "id": "c28f9bcf-c369-4a3d-ae28-a30c262d0211",
   "metadata": {},
   "source": [
    "**Time Complexity**: O(ab)\n",
    "\n",
    "**Space Complexity**: O(1)"
   ]
  },
  {
   "cell_type": "markdown",
   "id": "d0cc8f1c-5b51-4283-818b-257a9188a838",
   "metadata": {},
   "source": [
    "# Question 5: Print Unordered Pairs 2 Arrays 100000 Units"
   ]
  },
  {
   "cell_type": "code",
   "execution_count": 20,
   "id": "042b8994-c091-4e26-a346-995a612aab59",
   "metadata": {},
   "outputs": [],
   "source": [
    "def printUnorderedPairs(arrayA, arrayB):\n",
    "    for i in range(len(arrayA)):                                  # ------------- O(a)\n",
    "        for j in range(len(arrayB)):                                   # ------------- O(b)\n",
    "            for k in range(0,100000):                                      # ------------- O(10000) = O(1)\n",
    "                print(str(arrayA[i]) + \",\" + str(arrayB[j]))                   # ------------- O(1)\n"
   ]
  },
  {
   "cell_type": "markdown",
   "id": "afd4208b-cb59-480f-9ee5-2d72d5a28c94",
   "metadata": {},
   "source": [
    "**Time Complexity**: O(ab)\n",
    "\n",
    "**Space Complexity**: O(1)"
   ]
  },
  {
   "cell_type": "markdown",
   "id": "9f45c086-9a21-49ac-82ea-7d85ea8c44e0",
   "metadata": {},
   "source": [
    "# Question 6: Reverse"
   ]
  },
  {
   "cell_type": "code",
   "execution_count": 21,
   "id": "646d6464-47b8-43ed-9ce5-aa0fab4db2e2",
   "metadata": {},
   "outputs": [
    {
     "name": "stdout",
     "output_type": "stream",
     "text": [
      "[5, 4, 3, 2, 1]\n"
     ]
    }
   ],
   "source": [
    "def reverse(array):\n",
    "    for i in range(0,int(len(array)/2)): # ------------- O(n/2)\n",
    "        other = len(array)-i-1              # ------------- O(1)\n",
    "        temp = array[i]                     # ------------- O(1)\n",
    "        array[i] = array[other]             # ------------- O(1)\n",
    "        array[other] = temp                 # ------------- O(1)\n",
    "    print(array)                         # ------------- O(1)\n",
    "\n",
    "arrayA = [1,2,3,4,5]\n",
    "reverse(arrayA)"
   ]
  },
  {
   "cell_type": "markdown",
   "id": "f7df572e-77b4-4149-9e10-3e45a86582b0",
   "metadata": {},
   "source": [
    "**Time Complexity**: O(n)\n",
    "\n",
    "**Space Complexity**: O(1)"
   ]
  },
  {
   "cell_type": "markdown",
   "id": "de2cac29-ccbc-49fd-8c3f-7fb6f7b16e68",
   "metadata": {},
   "source": [
    "# Question 7: O(N) Equivalents"
   ]
  },
  {
   "cell_type": "markdown",
   "id": "61985136-7298-40eb-83ab-e491849e031b",
   "metadata": {},
   "source": [
    "Which of the following are equivalent to O(N)?\n",
    "1. O(N + P), where P < N/2 ----------> Since P < N, drop non-dominant term P. Hece, its O(N)\n",
    "2. O(2N)                   ----------> Drop constant term 2. Hece, its O(N)\n",
    "3. O(N + logN)             ----------> Since logN < N, drop non-dominant term logN. Hece, its O(N)\n",
    "4. O(N + NlogN)            ----------> Since NlogN > N, drop non-dominant term N. Hece, its O(NLogN)\n",
    "5. O(N + M)                ----------> If M > N, then it's O(M). But, if M < N, then it's O(N). Since we don't know whether N > M or not, it's O(N + M).\n",
    "\n",
    "**Answer**: Options 1, 2, and 3 are equivalent to O(N)."
   ]
  },
  {
   "cell_type": "code",
   "execution_count": null,
   "id": "98f3d791-8d23-45c8-9134-288f087a9c0e",
   "metadata": {},
   "outputs": [],
   "source": []
  },
  {
   "cell_type": "code",
   "execution_count": null,
   "id": "ace9b51b-a9dc-4b98-99ce-3c096f5bfeb0",
   "metadata": {},
   "outputs": [],
   "source": []
  }
 ],
 "metadata": {
  "kernelspec": {
   "display_name": "Python 3 (ipykernel)",
   "language": "python",
   "name": "python3"
  },
  "language_info": {
   "codemirror_mode": {
    "name": "ipython",
    "version": 3
   },
   "file_extension": ".py",
   "mimetype": "text/x-python",
   "name": "python",
   "nbconvert_exporter": "python",
   "pygments_lexer": "ipython3",
   "version": "3.12.5"
  }
 },
 "nbformat": 4,
 "nbformat_minor": 5
}
